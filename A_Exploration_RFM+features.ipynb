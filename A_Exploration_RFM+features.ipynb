{
 "cells": [
  {
   "cell_type": "code",
   "execution_count": 1,
   "metadata": {
    "ExecuteTime": {
     "end_time": "2020-12-29T09:56:06.331301Z",
     "start_time": "2020-12-29T09:56:04.324366Z"
    }
   },
   "outputs": [],
   "source": [
    "import pandas as pd\n",
    "pd.set_option('display.max_columns', 500)\n",
    "pd.set_option('display.max_rows', 500)\n",
    "\n",
    "# Load the datasets in dF\n",
    "cst = pd.read_csv('olist_customers_dataset.csv')\n",
    "loc = pd.read_csv('olist_geolocation_dataset.csv')\n",
    "itm = pd.read_csv('olist_order_items_dataset.csv')\n",
    "pay = pd.read_csv('olist_order_payments_dataset.csv')\n",
    "rev = pd.read_csv('olist_order_reviews_dataset.csv')\n",
    "prd = pd.read_csv('olist_products_dataset.csv')\n",
    "ordr = pd.read_csv('olist_orders_dataset.csv')\n",
    "sel = pd.read_csv('olist_sellers_dataset.csv')\n",
    "tsl = pd.read_csv('product_category_name_translation.csv')"
   ]
  },
  {
   "cell_type": "markdown",
   "metadata": {},
   "source": [
    "### I. Counting principal dF loaded"
   ]
  },
  {
   "cell_type": "markdown",
   "metadata": {},
   "source": [
    "**I.1 Customer dF**"
   ]
  },
  {
   "cell_type": "code",
   "execution_count": null,
   "metadata": {
    "ExecuteTime": {
     "end_time": "2020-12-24T06:52:49.226480Z",
     "start_time": "2020-12-24T06:52:49.123946Z"
    }
   },
   "outputs": [],
   "source": [
    "cst['customer_unique_id'].describe()"
   ]
  },
  {
   "cell_type": "markdown",
   "metadata": {},
   "source": [
    "**I.2 Product dF**"
   ]
  },
  {
   "cell_type": "code",
   "execution_count": null,
   "metadata": {
    "ExecuteTime": {
     "end_time": "2020-12-24T06:52:49.661231Z",
     "start_time": "2020-12-24T06:52:49.603797Z"
    }
   },
   "outputs": [],
   "source": [
    "itm['product_id'].describe()"
   ]
  },
  {
   "cell_type": "markdown",
   "metadata": {},
   "source": [
    "**I.3 Seller dF**"
   ]
  },
  {
   "cell_type": "code",
   "execution_count": null,
   "metadata": {
    "ExecuteTime": {
     "end_time": "2020-12-24T06:52:50.038483Z",
     "start_time": "2020-12-24T06:52:50.023007Z"
    }
   },
   "outputs": [],
   "source": [
    "sel['seller_id'].describe()"
   ]
  },
  {
   "cell_type": "markdown",
   "metadata": {},
   "source": [
    "### II. Harmonized dF with merge operations"
   ]
  },
  {
   "cell_type": "code",
   "execution_count": 2,
   "metadata": {
    "ExecuteTime": {
     "end_time": "2020-12-24T06:54:11.843993Z",
     "start_time": "2020-12-24T06:54:11.835012Z"
    }
   },
   "outputs": [],
   "source": [
    "# List of all dF\n",
    "a = [cst, loc, itm, pay, rev, prd, ordr, sel]"
   ]
  },
  {
   "cell_type": "code",
   "execution_count": 2,
   "metadata": {
    "ExecuteTime": {
     "end_time": "2020-12-29T09:56:11.466173Z",
     "start_time": "2020-12-29T09:56:11.140990Z"
    }
   },
   "outputs": [
    {
     "name": "stdout",
     "output_type": "stream",
     "text": [
      "REVIEW dF | Key unique value: 99441 | Shape: (100000, 7)\n",
      "ORDER  dF | Key unique value: 99441 | Shape: (99441, 8)\n",
      "\n",
      "MERGED dF | Key unique value: 99441 | Shape: (100000, 15)\n",
      "\n",
      " both          100000\n",
      "right_only         0\n",
      "left_only          0\n",
      "Name: _merge, dtype: int64\n"
     ]
    }
   ],
   "source": [
    "# Check unique value and shape of both dF to...\n",
    "print('REVIEW dF | Key unique value:', len(rev['order_id'].unique()),\n",
    "      '| Shape:', rev.shape)\n",
    "print('ORDER  dF | Key unique value:', len(ordr['order_id'].unique()),\n",
    "      '| Shape:', ordr.shape)\n",
    "\n",
    "# Merge\n",
    "b = rev.merge(ordr, on='order_id', indicator=True)\n",
    "\n",
    "# Then check the dF merged\n",
    "print('\\nMERGED dF | Key unique value:', len(b['order_id'].unique()),\n",
    "      '| Shape:', b.shape)\n",
    "\n",
    "print('\\n', b['_merge'].value_counts())\n",
    "b.drop(columns='_merge', inplace=True)"
   ]
  },
  {
   "cell_type": "code",
   "execution_count": 3,
   "metadata": {
    "ExecuteTime": {
     "end_time": "2020-12-29T09:56:12.125642Z",
     "start_time": "2020-12-29T09:56:11.910556Z"
    }
   },
   "outputs": [
    {
     "name": "stdout",
     "output_type": "stream",
     "text": [
      "ITEM dF   | Key unique value: 98666 | Shape: (112650, 7)\n",
      "PAY  dF   | Key unique value: 99440 | Shape: (103886, 5)\n",
      "\n",
      "MERGED dF | Key unique value: 98665 | Shape: (117601, 12)\n",
      "\n",
      " both          117601\n",
      "right_only         0\n",
      "left_only          0\n",
      "Name: _merge, dtype: int64\n"
     ]
    }
   ],
   "source": [
    "# Check unique value and shape of both dF to...\n",
    "print('ITEM dF   | Key unique value:', len(itm['order_id'].unique()),\n",
    "      '| Shape:', itm.shape)\n",
    "print('PAY  dF   | Key unique value:', len(pay['order_id'].unique()),\n",
    "      '| Shape:', pay.shape)\n",
    "\n",
    "# Merge\n",
    "c = itm.merge(pay, on='order_id', indicator=True)\n",
    "\n",
    "# Then check the dF merged\n",
    "print('\\nMERGED dF | Key unique value:', len(c['order_id'].unique()),\n",
    "      '| Shape:', c.shape)\n",
    "\n",
    "print('\\n', c['_merge'].value_counts())\n",
    "c.drop(columns='_merge', inplace=True)"
   ]
  },
  {
   "cell_type": "code",
   "execution_count": 4,
   "metadata": {
    "ExecuteTime": {
     "end_time": "2020-12-29T09:56:13.043798Z",
     "start_time": "2020-12-29T09:56:12.578275Z"
    }
   },
   "outputs": [
    {
     "name": "stdout",
     "output_type": "stream",
     "text": [
      "c dF      | Key unique value: 98665 | Shape: (117601, 11)\n",
      "b dF      | Key unique value: 99441 | Shape: (100000, 14)\n",
      "\n",
      "MERGED dF | Key unique value: 98665 | Shape: (118315, 25)\n",
      "\n",
      " both          118315\n",
      "right_only         0\n",
      "left_only          0\n",
      "Name: _merge, dtype: int64\n"
     ]
    }
   ],
   "source": [
    "# Check unique value and shape of both dF to...\n",
    "print('c dF      | Key unique value:', len(c['order_id'].unique()), '| Shape:',\n",
    "      c.shape)\n",
    "print('b dF      | Key unique value:', len(b['order_id'].unique()), '| Shape:',\n",
    "      b.shape)\n",
    "\n",
    "# Merge\n",
    "d = c.merge(b, on='order_id', indicator=True)\n",
    "\n",
    "# Then check the dF merged\n",
    "print('\\nMERGED dF | Key unique value:', len(d['order_id'].unique()),\n",
    "      '| Shape:', d.shape)\n",
    "\n",
    "print('\\n', d['_merge'].value_counts())\n",
    "d.drop(columns='_merge', inplace=True)"
   ]
  },
  {
   "cell_type": "code",
   "execution_count": 5,
   "metadata": {
    "ExecuteTime": {
     "end_time": "2020-12-29T09:56:13.912982Z",
     "start_time": "2020-12-29T09:56:13.360777Z"
    }
   },
   "outputs": [
    {
     "name": "stdout",
     "output_type": "stream",
     "text": [
      "d dF       | Key unique value: 32951 | Shape: (118315, 24)\n",
      "PRODUCT dF | Key unique value: 32951 | Shape: (32951, 9)\n",
      "\n",
      "MERGED dF  | Key unique value: 98665 | Shape: (118315, 33)\n",
      "\n",
      " both          118315\n",
      "right_only         0\n",
      "left_only          0\n",
      "Name: _merge, dtype: int64\n"
     ]
    }
   ],
   "source": [
    "# Check unique value and shape of both dF to...\n",
    "print('d dF       | Key unique value:', len(d['product_id'].unique()),\n",
    "      '| Shape:', d.shape)\n",
    "print('PRODUCT dF | Key unique value:', len(prd['product_id'].unique()),\n",
    "      '| Shape:', prd.shape)\n",
    "\n",
    "# Merge\n",
    "e = d.merge(prd, on='product_id', indicator=True)\n",
    "\n",
    "# Then check the dF merged\n",
    "print('\\nMERGED dF  | Key unique value:', len(e['order_id'].unique()),\n",
    "      '| Shape:', e.shape)\n",
    "\n",
    "print('\\n', e['_merge'].value_counts())\n",
    "e.drop(columns='_merge', inplace=True)"
   ]
  },
  {
   "cell_type": "code",
   "execution_count": 6,
   "metadata": {
    "ExecuteTime": {
     "end_time": "2020-12-29T09:56:14.969329Z",
     "start_time": "2020-12-29T09:56:14.275634Z"
    }
   },
   "outputs": [
    {
     "name": "stdout",
     "output_type": "stream",
     "text": [
      "e dF        | Key unique value: 98665 | Shape: (118315, 32)\n",
      "CUSTOMER dF | Key unique value: 99441 | Shape: (99441, 5)\n",
      "\n",
      "MERGED dF   | Key unique value: 98665 | Shape: (118315, 37)\n",
      "\n",
      " both          118315\n",
      "right_only         0\n",
      "left_only          0\n",
      "Name: _merge, dtype: int64\n"
     ]
    }
   ],
   "source": [
    "# Check unique value and shape of both dF to...\n",
    "print('e dF        | Key unique value:', len(e['customer_id'].unique()),\n",
    "      '| Shape:', e.shape)\n",
    "print('CUSTOMER dF | Key unique value:', len(cst['customer_id'].unique()),\n",
    "      '| Shape:', cst.shape)\n",
    "\n",
    "# Merge\n",
    "f = e.merge(cst, on='customer_id', indicator=True)\n",
    "\n",
    "# Then check the dF merged\n",
    "print('\\nMERGED dF   | Key unique value:', len(f['customer_id'].unique()),\n",
    "      '| Shape:', f.shape)\n",
    "\n",
    "print('\\n', f['_merge'].value_counts())\n",
    "f.drop(columns='_merge', inplace=True)"
   ]
  },
  {
   "cell_type": "code",
   "execution_count": 7,
   "metadata": {
    "ExecuteTime": {
     "end_time": "2020-12-29T09:56:15.943907Z",
     "start_time": "2020-12-29T09:56:15.098732Z"
    }
   },
   "outputs": [
    {
     "name": "stdout",
     "output_type": "stream",
     "text": [
      "f dF      | Key unique value: 3095 | Shape: (118315, 36)\n",
      "SELLER dF | Key unique value: 3095 | Shape: (3095, 4)\n",
      "\n",
      "MERGED dF | Key unique value: 98665 | Shape: (118315, 40)\n",
      "\n",
      " both          118315\n",
      "right_only         0\n",
      "left_only          0\n",
      "Name: _merge, dtype: int64\n"
     ]
    }
   ],
   "source": [
    "# Check unique value and shape of both dF to...\n",
    "print('f dF      | Key unique value:', len(f['seller_id'].unique()),\n",
    "      '| Shape:', f.shape)\n",
    "print('SELLER dF | Key unique value:', len(sel['seller_id'].unique()),\n",
    "      '| Shape:', sel.shape)\n",
    "\n",
    "# Merge\n",
    "df_original = f.merge(sel, on='seller_id', indicator=True)\n",
    "\n",
    "# Then check the dF merged\n",
    "print('\\nMERGED dF | Key unique value:', len(df_original['order_id'].unique()),\n",
    "      '| Shape:', df_original.shape)\n",
    "\n",
    "print('\\n', df_original['_merge'].value_counts())\n",
    "df_original.drop(columns='_merge', inplace=True)"
   ]
  },
  {
   "cell_type": "markdown",
   "metadata": {},
   "source": [
    "### III. Cleaning"
   ]
  },
  {
   "cell_type": "markdown",
   "metadata": {},
   "source": [
    "**III.1 Ordering dF by columns type**"
   ]
  },
  {
   "cell_type": "code",
   "execution_count": 8,
   "metadata": {
    "ExecuteTime": {
     "end_time": "2020-12-29T09:56:18.737140Z",
     "start_time": "2020-12-29T09:56:18.728118Z"
    }
   },
   "outputs": [],
   "source": [
    "# List of features organized by continue / discrete types\n",
    "date_list = [\n",
    "    'shipping_limit_date', 'review_creation_date', 'review_answer_timestamp',\n",
    "    'order_purchase_timestamp', 'order_approved_at',\n",
    "    'order_delivered_carrier_date', 'order_delivered_customer_date',\n",
    "    'order_estimated_delivery_date'\n",
    "]\n",
    "\n",
    "adress = ['customer_zip_code_prefix', 'seller_zip_code_prefix']\n",
    "\n",
    "cat_to_dis = [\n",
    "    'customer_city', 'customer_state', 'seller_city', 'seller_state',\n",
    "    'payment_type', 'order_status', 'product_category_name'\n",
    "]\n",
    "\n",
    "id_list = [\n",
    "    'order_id', 'product_id', 'seller_id', 'review_id', 'customer_id',\n",
    "    'customer_unique_id', 'order_item_id'\n",
    "]"
   ]
  },
  {
   "cell_type": "code",
   "execution_count": 9,
   "metadata": {
    "ExecuteTime": {
     "end_time": "2020-12-29T09:56:20.443082Z",
     "start_time": "2020-12-29T09:56:20.104088Z"
    }
   },
   "outputs": [],
   "source": [
    "# Concatenation to ordering dF\n",
    "df = pd.concat(\n",
    "    [\n",
    "        df_original.loc[:, date_list],  # Date\n",
    "        df_original.loc[:, adress],  # Adress\n",
    "        df_original.loc[:, cat_to_dis],  # Categorical -> Discretize\n",
    "        df_original.loc[:, id_list]  # Id\n",
    "    ],\n",
    "    axis=1)\n",
    "\n",
    "df = pd.concat([df, df_original.drop(columns=df.columns)], axis=1)\n",
    "df.drop(columns=['review_comment_title', 'review_comment_message'],\n",
    "        inplace=True)"
   ]
  },
  {
   "cell_type": "code",
   "execution_count": 10,
   "metadata": {
    "ExecuteTime": {
     "end_time": "2020-12-29T09:56:22.153092Z",
     "start_time": "2020-12-29T09:56:21.911099Z"
    }
   },
   "outputs": [
    {
     "data": {
      "text/html": [
       "<div>\n",
       "<style scoped>\n",
       "    .dataframe tbody tr th:only-of-type {\n",
       "        vertical-align: middle;\n",
       "    }\n",
       "\n",
       "    .dataframe tbody tr th {\n",
       "        vertical-align: top;\n",
       "    }\n",
       "\n",
       "    .dataframe thead th {\n",
       "        text-align: right;\n",
       "    }\n",
       "</style>\n",
       "<table border=\"1\" class=\"dataframe\">\n",
       "  <thead>\n",
       "    <tr style=\"text-align: right;\">\n",
       "      <th></th>\n",
       "      <th>shipping_limit_date</th>\n",
       "      <th>review_creation_date</th>\n",
       "      <th>review_answer_timestamp</th>\n",
       "      <th>order_purchase_timestamp</th>\n",
       "      <th>order_approved_at</th>\n",
       "      <th>order_delivered_carrier_date</th>\n",
       "      <th>order_delivered_customer_date</th>\n",
       "      <th>order_estimated_delivery_date</th>\n",
       "      <th>customer_zip_code_prefix</th>\n",
       "      <th>seller_zip_code_prefix</th>\n",
       "      <th>customer_city</th>\n",
       "      <th>customer_state</th>\n",
       "      <th>seller_city</th>\n",
       "      <th>seller_state</th>\n",
       "      <th>payment_type</th>\n",
       "      <th>order_status</th>\n",
       "      <th>product_category_name</th>\n",
       "      <th>order_id</th>\n",
       "      <th>product_id</th>\n",
       "      <th>seller_id</th>\n",
       "      <th>review_id</th>\n",
       "      <th>customer_id</th>\n",
       "      <th>customer_unique_id</th>\n",
       "      <th>order_item_id</th>\n",
       "      <th>price</th>\n",
       "      <th>freight_value</th>\n",
       "      <th>payment_sequential</th>\n",
       "      <th>payment_installments</th>\n",
       "      <th>payment_value</th>\n",
       "      <th>review_score</th>\n",
       "      <th>product_name_lenght</th>\n",
       "      <th>product_description_lenght</th>\n",
       "      <th>product_photos_qty</th>\n",
       "      <th>product_weight_g</th>\n",
       "      <th>product_length_cm</th>\n",
       "      <th>product_height_cm</th>\n",
       "      <th>product_width_cm</th>\n",
       "    </tr>\n",
       "  </thead>\n",
       "  <tbody>\n",
       "    <tr>\n",
       "      <th>0</th>\n",
       "      <td>2017-09-19 09:45:35</td>\n",
       "      <td>2017-09-21 00:00:00</td>\n",
       "      <td>2017-09-22 10:57:03</td>\n",
       "      <td>2017-09-13 08:59:02</td>\n",
       "      <td>2017-09-13 09:45:35</td>\n",
       "      <td>2017-09-19 18:34:16</td>\n",
       "      <td>2017-09-20 23:43:48</td>\n",
       "      <td>2017-09-29 00:00:00</td>\n",
       "      <td>28013</td>\n",
       "      <td>27277</td>\n",
       "      <td>campos dos goytacazes</td>\n",
       "      <td>RJ</td>\n",
       "      <td>volta redonda</td>\n",
       "      <td>SP</td>\n",
       "      <td>credit_card</td>\n",
       "      <td>delivered</td>\n",
       "      <td>cool_stuff</td>\n",
       "      <td>00010242fe8c5a6d1ba2dd792cb16214</td>\n",
       "      <td>4244733e06e7ecb4970a6e2683c13e61</td>\n",
       "      <td>48436dade18ac8b2bce089ec2a041202</td>\n",
       "      <td>97ca439bc427b48bc1cd7177abe71365</td>\n",
       "      <td>3ce436f183e68e07877b285a838db11a</td>\n",
       "      <td>871766c5855e863f6eccc05f988b23cb</td>\n",
       "      <td>1</td>\n",
       "      <td>58.9</td>\n",
       "      <td>13.29</td>\n",
       "      <td>1</td>\n",
       "      <td>2</td>\n",
       "      <td>72.19</td>\n",
       "      <td>5</td>\n",
       "      <td>58.0</td>\n",
       "      <td>598.0</td>\n",
       "      <td>4.0</td>\n",
       "      <td>650.0</td>\n",
       "      <td>28.0</td>\n",
       "      <td>9.0</td>\n",
       "      <td>14.0</td>\n",
       "    </tr>\n",
       "    <tr>\n",
       "      <th>1</th>\n",
       "      <td>2017-07-05 02:44:11</td>\n",
       "      <td>2017-07-14 00:00:00</td>\n",
       "      <td>2017-07-17 12:50:07</td>\n",
       "      <td>2017-06-28 11:52:20</td>\n",
       "      <td>2017-06-29 02:44:11</td>\n",
       "      <td>2017-07-05 12:00:33</td>\n",
       "      <td>2017-07-13 20:39:29</td>\n",
       "      <td>2017-07-26 00:00:00</td>\n",
       "      <td>75800</td>\n",
       "      <td>27277</td>\n",
       "      <td>jatai</td>\n",
       "      <td>GO</td>\n",
       "      <td>volta redonda</td>\n",
       "      <td>SP</td>\n",
       "      <td>boleto</td>\n",
       "      <td>delivered</td>\n",
       "      <td>cool_stuff</td>\n",
       "      <td>130898c0987d1801452a8ed92a670612</td>\n",
       "      <td>4244733e06e7ecb4970a6e2683c13e61</td>\n",
       "      <td>48436dade18ac8b2bce089ec2a041202</td>\n",
       "      <td>b11cba360bbe71410c291b764753d37f</td>\n",
       "      <td>e6eecc5a77de221464d1c4eaff0a9b64</td>\n",
       "      <td>0fb8e3eab2d3e79d92bb3fffbb97f188</td>\n",
       "      <td>1</td>\n",
       "      <td>55.9</td>\n",
       "      <td>17.96</td>\n",
       "      <td>1</td>\n",
       "      <td>1</td>\n",
       "      <td>73.86</td>\n",
       "      <td>5</td>\n",
       "      <td>58.0</td>\n",
       "      <td>598.0</td>\n",
       "      <td>4.0</td>\n",
       "      <td>650.0</td>\n",
       "      <td>28.0</td>\n",
       "      <td>9.0</td>\n",
       "      <td>14.0</td>\n",
       "    </tr>\n",
       "    <tr>\n",
       "      <th>2</th>\n",
       "      <td>2018-05-23 10:56:25</td>\n",
       "      <td>2018-06-05 00:00:00</td>\n",
       "      <td>2018-06-06 21:41:12</td>\n",
       "      <td>2018-05-18 10:25:53</td>\n",
       "      <td>2018-05-18 12:31:43</td>\n",
       "      <td>2018-05-23 14:05:00</td>\n",
       "      <td>2018-06-04 18:34:26</td>\n",
       "      <td>2018-06-07 00:00:00</td>\n",
       "      <td>30720</td>\n",
       "      <td>27277</td>\n",
       "      <td>belo horizonte</td>\n",
       "      <td>MG</td>\n",
       "      <td>volta redonda</td>\n",
       "      <td>SP</td>\n",
       "      <td>credit_card</td>\n",
       "      <td>delivered</td>\n",
       "      <td>cool_stuff</td>\n",
       "      <td>532ed5e14e24ae1f0d735b91524b98b9</td>\n",
       "      <td>4244733e06e7ecb4970a6e2683c13e61</td>\n",
       "      <td>48436dade18ac8b2bce089ec2a041202</td>\n",
       "      <td>af01c4017c5ab46df6cc810e069e654a</td>\n",
       "      <td>4ef55bf80f711b372afebcb7c715344a</td>\n",
       "      <td>3419052c8c6b45daf79c1e426f9e9bcb</td>\n",
       "      <td>1</td>\n",
       "      <td>64.9</td>\n",
       "      <td>18.33</td>\n",
       "      <td>1</td>\n",
       "      <td>2</td>\n",
       "      <td>83.23</td>\n",
       "      <td>4</td>\n",
       "      <td>58.0</td>\n",
       "      <td>598.0</td>\n",
       "      <td>4.0</td>\n",
       "      <td>650.0</td>\n",
       "      <td>28.0</td>\n",
       "      <td>9.0</td>\n",
       "      <td>14.0</td>\n",
       "    </tr>\n",
       "    <tr>\n",
       "      <th>3</th>\n",
       "      <td>2017-08-07 18:55:08</td>\n",
       "      <td>2017-08-10 00:00:00</td>\n",
       "      <td>2017-08-13 03:35:17</td>\n",
       "      <td>2017-08-01 18:38:42</td>\n",
       "      <td>2017-08-01 18:55:08</td>\n",
       "      <td>2017-08-02 19:07:36</td>\n",
       "      <td>2017-08-09 21:26:33</td>\n",
       "      <td>2017-08-25 00:00:00</td>\n",
       "      <td>83070</td>\n",
       "      <td>27277</td>\n",
       "      <td>sao jose dos pinhais</td>\n",
       "      <td>PR</td>\n",
       "      <td>volta redonda</td>\n",
       "      <td>SP</td>\n",
       "      <td>credit_card</td>\n",
       "      <td>delivered</td>\n",
       "      <td>cool_stuff</td>\n",
       "      <td>6f8c31653edb8c83e1a739408b5ff750</td>\n",
       "      <td>4244733e06e7ecb4970a6e2683c13e61</td>\n",
       "      <td>48436dade18ac8b2bce089ec2a041202</td>\n",
       "      <td>8304ff37d8b16b57086fa283fe0c44f8</td>\n",
       "      <td>30407a72ad8b3f4df4d15369126b20c9</td>\n",
       "      <td>e7c828d22c0682c1565252deefbe334d</td>\n",
       "      <td>1</td>\n",
       "      <td>58.9</td>\n",
       "      <td>16.17</td>\n",
       "      <td>1</td>\n",
       "      <td>3</td>\n",
       "      <td>75.07</td>\n",
       "      <td>5</td>\n",
       "      <td>58.0</td>\n",
       "      <td>598.0</td>\n",
       "      <td>4.0</td>\n",
       "      <td>650.0</td>\n",
       "      <td>28.0</td>\n",
       "      <td>9.0</td>\n",
       "      <td>14.0</td>\n",
       "    </tr>\n",
       "    <tr>\n",
       "      <th>4</th>\n",
       "      <td>2017-08-16 22:05:11</td>\n",
       "      <td>2017-08-25 00:00:00</td>\n",
       "      <td>2017-08-28 00:51:18</td>\n",
       "      <td>2017-08-10 21:48:40</td>\n",
       "      <td>2017-08-10 22:05:11</td>\n",
       "      <td>2017-08-11 19:43:07</td>\n",
       "      <td>2017-08-24 20:04:21</td>\n",
       "      <td>2017-09-01 00:00:00</td>\n",
       "      <td>36400</td>\n",
       "      <td>27277</td>\n",
       "      <td>conselheiro lafaiete</td>\n",
       "      <td>MG</td>\n",
       "      <td>volta redonda</td>\n",
       "      <td>SP</td>\n",
       "      <td>credit_card</td>\n",
       "      <td>delivered</td>\n",
       "      <td>cool_stuff</td>\n",
       "      <td>7d19f4ef4d04461989632411b7e588b9</td>\n",
       "      <td>4244733e06e7ecb4970a6e2683c13e61</td>\n",
       "      <td>48436dade18ac8b2bce089ec2a041202</td>\n",
       "      <td>426f43a82185969503fb3c86241a9535</td>\n",
       "      <td>91a792fef70ecd8cc69d3c7feb3d12da</td>\n",
       "      <td>0bb98ba72dcc08e95f9d8cc434e9a2cc</td>\n",
       "      <td>1</td>\n",
       "      <td>58.9</td>\n",
       "      <td>13.29</td>\n",
       "      <td>1</td>\n",
       "      <td>4</td>\n",
       "      <td>72.19</td>\n",
       "      <td>5</td>\n",
       "      <td>58.0</td>\n",
       "      <td>598.0</td>\n",
       "      <td>4.0</td>\n",
       "      <td>650.0</td>\n",
       "      <td>28.0</td>\n",
       "      <td>9.0</td>\n",
       "      <td>14.0</td>\n",
       "    </tr>\n",
       "    <tr>\n",
       "      <th>...</th>\n",
       "      <td>...</td>\n",
       "      <td>...</td>\n",
       "      <td>...</td>\n",
       "      <td>...</td>\n",
       "      <td>...</td>\n",
       "      <td>...</td>\n",
       "      <td>...</td>\n",
       "      <td>...</td>\n",
       "      <td>...</td>\n",
       "      <td>...</td>\n",
       "      <td>...</td>\n",
       "      <td>...</td>\n",
       "      <td>...</td>\n",
       "      <td>...</td>\n",
       "      <td>...</td>\n",
       "      <td>...</td>\n",
       "      <td>...</td>\n",
       "      <td>...</td>\n",
       "      <td>...</td>\n",
       "      <td>...</td>\n",
       "      <td>...</td>\n",
       "      <td>...</td>\n",
       "      <td>...</td>\n",
       "      <td>...</td>\n",
       "      <td>...</td>\n",
       "      <td>...</td>\n",
       "      <td>...</td>\n",
       "      <td>...</td>\n",
       "      <td>...</td>\n",
       "      <td>...</td>\n",
       "      <td>...</td>\n",
       "      <td>...</td>\n",
       "      <td>...</td>\n",
       "      <td>...</td>\n",
       "      <td>...</td>\n",
       "      <td>...</td>\n",
       "      <td>...</td>\n",
       "    </tr>\n",
       "    <tr>\n",
       "      <th>118310</th>\n",
       "      <td>2017-04-27 05:10:28</td>\n",
       "      <td>2017-05-25 00:00:00</td>\n",
       "      <td>2017-05-26 11:42:36</td>\n",
       "      <td>2017-04-19 10:20:51</td>\n",
       "      <td>2017-04-21 05:10:28</td>\n",
       "      <td>2017-05-04 15:06:24</td>\n",
       "      <td>2017-05-24 10:52:43</td>\n",
       "      <td>2017-05-22 00:00:00</td>\n",
       "      <td>22793</td>\n",
       "      <td>80220</td>\n",
       "      <td>rio de janeiro</td>\n",
       "      <td>RJ</td>\n",
       "      <td>curitiba</td>\n",
       "      <td>PR</td>\n",
       "      <td>boleto</td>\n",
       "      <td>delivered</td>\n",
       "      <td>moveis_decoracao</td>\n",
       "      <td>fdaf98feac227eb978d8f33f36e0231d</td>\n",
       "      <td>f739e9151702508b18f796c53005e5e9</td>\n",
       "      <td>d1aa1ec0839dcab73a6161130eb1f94a</td>\n",
       "      <td>fd48db39884359395ff6f18c8822aa7b</td>\n",
       "      <td>81ae83ce1a10af9f93fa3512bd9713b1</td>\n",
       "      <td>3d50a44231c2a153219cef76ee3e445d</td>\n",
       "      <td>1</td>\n",
       "      <td>119.9</td>\n",
       "      <td>16.14</td>\n",
       "      <td>1</td>\n",
       "      <td>1</td>\n",
       "      <td>136.04</td>\n",
       "      <td>4</td>\n",
       "      <td>44.0</td>\n",
       "      <td>533.0</td>\n",
       "      <td>2.0</td>\n",
       "      <td>1000.0</td>\n",
       "      <td>69.0</td>\n",
       "      <td>11.0</td>\n",
       "      <td>11.0</td>\n",
       "    </tr>\n",
       "    <tr>\n",
       "      <th>118311</th>\n",
       "      <td>2017-08-17 02:55:27</td>\n",
       "      <td>2017-08-18 00:00:00</td>\n",
       "      <td>2017-08-19 13:16:38</td>\n",
       "      <td>2017-08-11 10:15:22</td>\n",
       "      <td>2017-08-12 02:55:27</td>\n",
       "      <td>2017-08-14 22:03:19</td>\n",
       "      <td>2017-08-17 17:47:55</td>\n",
       "      <td>2017-09-04 00:00:00</td>\n",
       "      <td>13485</td>\n",
       "      <td>82620</td>\n",
       "      <td>limeira</td>\n",
       "      <td>SP</td>\n",
       "      <td>curitiba</td>\n",
       "      <td>PR</td>\n",
       "      <td>boleto</td>\n",
       "      <td>delivered</td>\n",
       "      <td>eletronicos</td>\n",
       "      <td>fe68b52db13993f58175fa589125d345</td>\n",
       "      <td>f4135cbdece8245560f7be179533797a</td>\n",
       "      <td>3fefda3299e6dfaea3466ef346a3571a</td>\n",
       "      <td>cd6f089e896732c91671704c7f51790e</td>\n",
       "      <td>94203a446c1b46b5ac95b0aaf7221804</td>\n",
       "      <td>52a953541861bbb4b79b39df24e00243</td>\n",
       "      <td>1</td>\n",
       "      <td>209.0</td>\n",
       "      <td>16.21</td>\n",
       "      <td>1</td>\n",
       "      <td>1</td>\n",
       "      <td>225.21</td>\n",
       "      <td>4</td>\n",
       "      <td>32.0</td>\n",
       "      <td>1306.0</td>\n",
       "      <td>3.0</td>\n",
       "      <td>500.0</td>\n",
       "      <td>17.0</td>\n",
       "      <td>9.0</td>\n",
       "      <td>25.0</td>\n",
       "    </tr>\n",
       "    <tr>\n",
       "      <th>118312</th>\n",
       "      <td>2018-08-02 04:05:13</td>\n",
       "      <td>2018-08-16 00:00:00</td>\n",
       "      <td>2018-08-16 14:20:01</td>\n",
       "      <td>2018-07-25 18:10:17</td>\n",
       "      <td>2018-07-27 04:05:13</td>\n",
       "      <td>2018-08-03 14:42:00</td>\n",
       "      <td>2018-08-15 14:57:50</td>\n",
       "      <td>2018-08-10 00:00:00</td>\n",
       "      <td>29066</td>\n",
       "      <td>86026</td>\n",
       "      <td>vitoria</td>\n",
       "      <td>ES</td>\n",
       "      <td>londrina</td>\n",
       "      <td>PR</td>\n",
       "      <td>boleto</td>\n",
       "      <td>delivered</td>\n",
       "      <td>pcs</td>\n",
       "      <td>fefacc66af859508bf1a7934eab1e97f</td>\n",
       "      <td>69c590f7ffc7bf8db97190b6cb6ed62e</td>\n",
       "      <td>80ceebb4ee9b31afb6c6a916a574a1e2</td>\n",
       "      <td>ac0c6f54ff4bfc295468eb14f31c927f</td>\n",
       "      <td>f48d464a0baaea338cb25f816991ab1f</td>\n",
       "      <td>459bef486812aa25204be022145caa62</td>\n",
       "      <td>1</td>\n",
       "      <td>6729.0</td>\n",
       "      <td>193.21</td>\n",
       "      <td>1</td>\n",
       "      <td>1</td>\n",
       "      <td>6922.21</td>\n",
       "      <td>1</td>\n",
       "      <td>50.0</td>\n",
       "      <td>1935.0</td>\n",
       "      <td>4.0</td>\n",
       "      <td>5660.0</td>\n",
       "      <td>54.0</td>\n",
       "      <td>18.0</td>\n",
       "      <td>47.0</td>\n",
       "    </tr>\n",
       "    <tr>\n",
       "      <th>118313</th>\n",
       "      <td>2018-04-18 20:10:33</td>\n",
       "      <td>2018-04-21 00:00:00</td>\n",
       "      <td>2018-04-24 14:13:18</td>\n",
       "      <td>2018-04-12 19:47:40</td>\n",
       "      <td>2018-04-12 20:10:33</td>\n",
       "      <td>2018-04-18 00:41:29</td>\n",
       "      <td>2018-04-20 17:48:39</td>\n",
       "      <td>2018-04-30 00:00:00</td>\n",
       "      <td>12280</td>\n",
       "      <td>3124</td>\n",
       "      <td>cacapava</td>\n",
       "      <td>SP</td>\n",
       "      <td>sao paulo</td>\n",
       "      <td>SP</td>\n",
       "      <td>credit_card</td>\n",
       "      <td>delivered</td>\n",
       "      <td>bebidas</td>\n",
       "      <td>ff701a7c869ad21de22a6994237c8a00</td>\n",
       "      <td>5ff4076c0f01eeba4f728c9e3fa2653c</td>\n",
       "      <td>3e35a8bb43569389d3cebef0ce820f69</td>\n",
       "      <td>2926f21f2f2aba2ce11d801e17eac783</td>\n",
       "      <td>8f6d16c31abb30b7b4650272cb0014a3</td>\n",
       "      <td>ddb2249e0316d365ceae561c0f011bce</td>\n",
       "      <td>1</td>\n",
       "      <td>27.9</td>\n",
       "      <td>14.44</td>\n",
       "      <td>1</td>\n",
       "      <td>1</td>\n",
       "      <td>84.68</td>\n",
       "      <td>5</td>\n",
       "      <td>28.0</td>\n",
       "      <td>242.0</td>\n",
       "      <td>1.0</td>\n",
       "      <td>2000.0</td>\n",
       "      <td>19.0</td>\n",
       "      <td>38.0</td>\n",
       "      <td>19.0</td>\n",
       "    </tr>\n",
       "    <tr>\n",
       "      <th>118314</th>\n",
       "      <td>2018-04-18 20:10:33</td>\n",
       "      <td>2018-04-21 00:00:00</td>\n",
       "      <td>2018-04-24 14:13:18</td>\n",
       "      <td>2018-04-12 19:47:40</td>\n",
       "      <td>2018-04-12 20:10:33</td>\n",
       "      <td>2018-04-18 00:41:29</td>\n",
       "      <td>2018-04-20 17:48:39</td>\n",
       "      <td>2018-04-30 00:00:00</td>\n",
       "      <td>12280</td>\n",
       "      <td>3124</td>\n",
       "      <td>cacapava</td>\n",
       "      <td>SP</td>\n",
       "      <td>sao paulo</td>\n",
       "      <td>SP</td>\n",
       "      <td>credit_card</td>\n",
       "      <td>delivered</td>\n",
       "      <td>bebidas</td>\n",
       "      <td>ff701a7c869ad21de22a6994237c8a00</td>\n",
       "      <td>5ff4076c0f01eeba4f728c9e3fa2653c</td>\n",
       "      <td>3e35a8bb43569389d3cebef0ce820f69</td>\n",
       "      <td>2926f21f2f2aba2ce11d801e17eac783</td>\n",
       "      <td>8f6d16c31abb30b7b4650272cb0014a3</td>\n",
       "      <td>ddb2249e0316d365ceae561c0f011bce</td>\n",
       "      <td>2</td>\n",
       "      <td>27.9</td>\n",
       "      <td>14.44</td>\n",
       "      <td>1</td>\n",
       "      <td>1</td>\n",
       "      <td>84.68</td>\n",
       "      <td>5</td>\n",
       "      <td>28.0</td>\n",
       "      <td>242.0</td>\n",
       "      <td>1.0</td>\n",
       "      <td>2000.0</td>\n",
       "      <td>19.0</td>\n",
       "      <td>38.0</td>\n",
       "      <td>19.0</td>\n",
       "    </tr>\n",
       "  </tbody>\n",
       "</table>\n",
       "<p>114073 rows × 37 columns</p>\n",
       "</div>"
      ],
      "text/plain": [
       "        shipping_limit_date review_creation_date review_answer_timestamp  \\\n",
       "0       2017-09-19 09:45:35  2017-09-21 00:00:00     2017-09-22 10:57:03   \n",
       "1       2017-07-05 02:44:11  2017-07-14 00:00:00     2017-07-17 12:50:07   \n",
       "2       2018-05-23 10:56:25  2018-06-05 00:00:00     2018-06-06 21:41:12   \n",
       "3       2017-08-07 18:55:08  2017-08-10 00:00:00     2017-08-13 03:35:17   \n",
       "4       2017-08-16 22:05:11  2017-08-25 00:00:00     2017-08-28 00:51:18   \n",
       "...                     ...                  ...                     ...   \n",
       "118310  2017-04-27 05:10:28  2017-05-25 00:00:00     2017-05-26 11:42:36   \n",
       "118311  2017-08-17 02:55:27  2017-08-18 00:00:00     2017-08-19 13:16:38   \n",
       "118312  2018-08-02 04:05:13  2018-08-16 00:00:00     2018-08-16 14:20:01   \n",
       "118313  2018-04-18 20:10:33  2018-04-21 00:00:00     2018-04-24 14:13:18   \n",
       "118314  2018-04-18 20:10:33  2018-04-21 00:00:00     2018-04-24 14:13:18   \n",
       "\n",
       "       order_purchase_timestamp    order_approved_at  \\\n",
       "0           2017-09-13 08:59:02  2017-09-13 09:45:35   \n",
       "1           2017-06-28 11:52:20  2017-06-29 02:44:11   \n",
       "2           2018-05-18 10:25:53  2018-05-18 12:31:43   \n",
       "3           2017-08-01 18:38:42  2017-08-01 18:55:08   \n",
       "4           2017-08-10 21:48:40  2017-08-10 22:05:11   \n",
       "...                         ...                  ...   \n",
       "118310      2017-04-19 10:20:51  2017-04-21 05:10:28   \n",
       "118311      2017-08-11 10:15:22  2017-08-12 02:55:27   \n",
       "118312      2018-07-25 18:10:17  2018-07-27 04:05:13   \n",
       "118313      2018-04-12 19:47:40  2018-04-12 20:10:33   \n",
       "118314      2018-04-12 19:47:40  2018-04-12 20:10:33   \n",
       "\n",
       "       order_delivered_carrier_date order_delivered_customer_date  \\\n",
       "0               2017-09-19 18:34:16           2017-09-20 23:43:48   \n",
       "1               2017-07-05 12:00:33           2017-07-13 20:39:29   \n",
       "2               2018-05-23 14:05:00           2018-06-04 18:34:26   \n",
       "3               2017-08-02 19:07:36           2017-08-09 21:26:33   \n",
       "4               2017-08-11 19:43:07           2017-08-24 20:04:21   \n",
       "...                             ...                           ...   \n",
       "118310          2017-05-04 15:06:24           2017-05-24 10:52:43   \n",
       "118311          2017-08-14 22:03:19           2017-08-17 17:47:55   \n",
       "118312          2018-08-03 14:42:00           2018-08-15 14:57:50   \n",
       "118313          2018-04-18 00:41:29           2018-04-20 17:48:39   \n",
       "118314          2018-04-18 00:41:29           2018-04-20 17:48:39   \n",
       "\n",
       "       order_estimated_delivery_date  customer_zip_code_prefix  \\\n",
       "0                2017-09-29 00:00:00                     28013   \n",
       "1                2017-07-26 00:00:00                     75800   \n",
       "2                2018-06-07 00:00:00                     30720   \n",
       "3                2017-08-25 00:00:00                     83070   \n",
       "4                2017-09-01 00:00:00                     36400   \n",
       "...                              ...                       ...   \n",
       "118310           2017-05-22 00:00:00                     22793   \n",
       "118311           2017-09-04 00:00:00                     13485   \n",
       "118312           2018-08-10 00:00:00                     29066   \n",
       "118313           2018-04-30 00:00:00                     12280   \n",
       "118314           2018-04-30 00:00:00                     12280   \n",
       "\n",
       "        seller_zip_code_prefix          customer_city customer_state  \\\n",
       "0                        27277  campos dos goytacazes             RJ   \n",
       "1                        27277                  jatai             GO   \n",
       "2                        27277         belo horizonte             MG   \n",
       "3                        27277   sao jose dos pinhais             PR   \n",
       "4                        27277   conselheiro lafaiete             MG   \n",
       "...                        ...                    ...            ...   \n",
       "118310                   80220         rio de janeiro             RJ   \n",
       "118311                   82620                limeira             SP   \n",
       "118312                   86026                vitoria             ES   \n",
       "118313                    3124               cacapava             SP   \n",
       "118314                    3124               cacapava             SP   \n",
       "\n",
       "          seller_city seller_state payment_type order_status  \\\n",
       "0       volta redonda           SP  credit_card    delivered   \n",
       "1       volta redonda           SP       boleto    delivered   \n",
       "2       volta redonda           SP  credit_card    delivered   \n",
       "3       volta redonda           SP  credit_card    delivered   \n",
       "4       volta redonda           SP  credit_card    delivered   \n",
       "...               ...          ...          ...          ...   \n",
       "118310       curitiba           PR       boleto    delivered   \n",
       "118311       curitiba           PR       boleto    delivered   \n",
       "118312       londrina           PR       boleto    delivered   \n",
       "118313      sao paulo           SP  credit_card    delivered   \n",
       "118314      sao paulo           SP  credit_card    delivered   \n",
       "\n",
       "       product_category_name                          order_id  \\\n",
       "0                 cool_stuff  00010242fe8c5a6d1ba2dd792cb16214   \n",
       "1                 cool_stuff  130898c0987d1801452a8ed92a670612   \n",
       "2                 cool_stuff  532ed5e14e24ae1f0d735b91524b98b9   \n",
       "3                 cool_stuff  6f8c31653edb8c83e1a739408b5ff750   \n",
       "4                 cool_stuff  7d19f4ef4d04461989632411b7e588b9   \n",
       "...                      ...                               ...   \n",
       "118310      moveis_decoracao  fdaf98feac227eb978d8f33f36e0231d   \n",
       "118311           eletronicos  fe68b52db13993f58175fa589125d345   \n",
       "118312                   pcs  fefacc66af859508bf1a7934eab1e97f   \n",
       "118313               bebidas  ff701a7c869ad21de22a6994237c8a00   \n",
       "118314               bebidas  ff701a7c869ad21de22a6994237c8a00   \n",
       "\n",
       "                              product_id                         seller_id  \\\n",
       "0       4244733e06e7ecb4970a6e2683c13e61  48436dade18ac8b2bce089ec2a041202   \n",
       "1       4244733e06e7ecb4970a6e2683c13e61  48436dade18ac8b2bce089ec2a041202   \n",
       "2       4244733e06e7ecb4970a6e2683c13e61  48436dade18ac8b2bce089ec2a041202   \n",
       "3       4244733e06e7ecb4970a6e2683c13e61  48436dade18ac8b2bce089ec2a041202   \n",
       "4       4244733e06e7ecb4970a6e2683c13e61  48436dade18ac8b2bce089ec2a041202   \n",
       "...                                  ...                               ...   \n",
       "118310  f739e9151702508b18f796c53005e5e9  d1aa1ec0839dcab73a6161130eb1f94a   \n",
       "118311  f4135cbdece8245560f7be179533797a  3fefda3299e6dfaea3466ef346a3571a   \n",
       "118312  69c590f7ffc7bf8db97190b6cb6ed62e  80ceebb4ee9b31afb6c6a916a574a1e2   \n",
       "118313  5ff4076c0f01eeba4f728c9e3fa2653c  3e35a8bb43569389d3cebef0ce820f69   \n",
       "118314  5ff4076c0f01eeba4f728c9e3fa2653c  3e35a8bb43569389d3cebef0ce820f69   \n",
       "\n",
       "                               review_id                       customer_id  \\\n",
       "0       97ca439bc427b48bc1cd7177abe71365  3ce436f183e68e07877b285a838db11a   \n",
       "1       b11cba360bbe71410c291b764753d37f  e6eecc5a77de221464d1c4eaff0a9b64   \n",
       "2       af01c4017c5ab46df6cc810e069e654a  4ef55bf80f711b372afebcb7c715344a   \n",
       "3       8304ff37d8b16b57086fa283fe0c44f8  30407a72ad8b3f4df4d15369126b20c9   \n",
       "4       426f43a82185969503fb3c86241a9535  91a792fef70ecd8cc69d3c7feb3d12da   \n",
       "...                                  ...                               ...   \n",
       "118310  fd48db39884359395ff6f18c8822aa7b  81ae83ce1a10af9f93fa3512bd9713b1   \n",
       "118311  cd6f089e896732c91671704c7f51790e  94203a446c1b46b5ac95b0aaf7221804   \n",
       "118312  ac0c6f54ff4bfc295468eb14f31c927f  f48d464a0baaea338cb25f816991ab1f   \n",
       "118313  2926f21f2f2aba2ce11d801e17eac783  8f6d16c31abb30b7b4650272cb0014a3   \n",
       "118314  2926f21f2f2aba2ce11d801e17eac783  8f6d16c31abb30b7b4650272cb0014a3   \n",
       "\n",
       "                      customer_unique_id  order_item_id   price  \\\n",
       "0       871766c5855e863f6eccc05f988b23cb              1    58.9   \n",
       "1       0fb8e3eab2d3e79d92bb3fffbb97f188              1    55.9   \n",
       "2       3419052c8c6b45daf79c1e426f9e9bcb              1    64.9   \n",
       "3       e7c828d22c0682c1565252deefbe334d              1    58.9   \n",
       "4       0bb98ba72dcc08e95f9d8cc434e9a2cc              1    58.9   \n",
       "...                                  ...            ...     ...   \n",
       "118310  3d50a44231c2a153219cef76ee3e445d              1   119.9   \n",
       "118311  52a953541861bbb4b79b39df24e00243              1   209.0   \n",
       "118312  459bef486812aa25204be022145caa62              1  6729.0   \n",
       "118313  ddb2249e0316d365ceae561c0f011bce              1    27.9   \n",
       "118314  ddb2249e0316d365ceae561c0f011bce              2    27.9   \n",
       "\n",
       "        freight_value  payment_sequential  payment_installments  \\\n",
       "0               13.29                   1                     2   \n",
       "1               17.96                   1                     1   \n",
       "2               18.33                   1                     2   \n",
       "3               16.17                   1                     3   \n",
       "4               13.29                   1                     4   \n",
       "...               ...                 ...                   ...   \n",
       "118310          16.14                   1                     1   \n",
       "118311          16.21                   1                     1   \n",
       "118312         193.21                   1                     1   \n",
       "118313          14.44                   1                     1   \n",
       "118314          14.44                   1                     1   \n",
       "\n",
       "        payment_value  review_score  product_name_lenght  \\\n",
       "0               72.19             5                 58.0   \n",
       "1               73.86             5                 58.0   \n",
       "2               83.23             4                 58.0   \n",
       "3               75.07             5                 58.0   \n",
       "4               72.19             5                 58.0   \n",
       "...               ...           ...                  ...   \n",
       "118310         136.04             4                 44.0   \n",
       "118311         225.21             4                 32.0   \n",
       "118312        6922.21             1                 50.0   \n",
       "118313          84.68             5                 28.0   \n",
       "118314          84.68             5                 28.0   \n",
       "\n",
       "        product_description_lenght  product_photos_qty  product_weight_g  \\\n",
       "0                            598.0                 4.0             650.0   \n",
       "1                            598.0                 4.0             650.0   \n",
       "2                            598.0                 4.0             650.0   \n",
       "3                            598.0                 4.0             650.0   \n",
       "4                            598.0                 4.0             650.0   \n",
       "...                            ...                 ...               ...   \n",
       "118310                       533.0                 2.0            1000.0   \n",
       "118311                      1306.0                 3.0             500.0   \n",
       "118312                      1935.0                 4.0            5660.0   \n",
       "118313                       242.0                 1.0            2000.0   \n",
       "118314                       242.0                 1.0            2000.0   \n",
       "\n",
       "        product_length_cm  product_height_cm  product_width_cm  \n",
       "0                    28.0                9.0              14.0  \n",
       "1                    28.0                9.0              14.0  \n",
       "2                    28.0                9.0              14.0  \n",
       "3                    28.0                9.0              14.0  \n",
       "4                    28.0                9.0              14.0  \n",
       "...                   ...                ...               ...  \n",
       "118310               69.0               11.0              11.0  \n",
       "118311               17.0                9.0              25.0  \n",
       "118312               54.0               18.0              47.0  \n",
       "118313               19.0               38.0              19.0  \n",
       "118314               19.0               38.0              19.0  \n",
       "\n",
       "[114073 rows x 37 columns]"
      ]
     },
     "execution_count": 10,
     "metadata": {},
     "output_type": "execute_result"
    }
   ],
   "source": [
    "# Clean datas\n",
    "df = df.dropna()\n",
    "df"
   ]
  },
  {
   "cell_type": "markdown",
   "metadata": {},
   "source": [
    "**III.2 Changing format to date**"
   ]
  },
  {
   "cell_type": "code",
   "execution_count": 11,
   "metadata": {
    "ExecuteTime": {
     "end_time": "2020-12-29T09:56:48.611780Z",
     "start_time": "2020-12-29T09:56:47.663878Z"
    }
   },
   "outputs": [
    {
     "name": "stdout",
     "output_type": "stream",
     "text": [
      "<class 'pandas.core.frame.DataFrame'>\n",
      "Int64Index: 114073 entries, 0 to 118314\n",
      "Data columns (total 8 columns):\n",
      " #   Column                         Non-Null Count   Dtype \n",
      "---  ------                         --------------   ----- \n",
      " 0   shipping_limit_date            114073 non-null  object\n",
      " 1   review_creation_date           114073 non-null  object\n",
      " 2   review_answer_timestamp        114073 non-null  object\n",
      " 3   order_purchase_timestamp       114073 non-null  object\n",
      " 4   order_approved_at              114073 non-null  object\n",
      " 5   order_delivered_carrier_date   114073 non-null  object\n",
      " 6   order_delivered_customer_date  114073 non-null  object\n",
      " 7   order_estimated_delivery_date  114073 non-null  object\n",
      "dtypes: object(8)\n",
      "memory usage: 7.8+ MB\n"
     ]
    }
   ],
   "source": [
    "# Change dtype to datetime\n",
    "for i in df.iloc[:, :8]:\n",
    "    df[i] = pd.to_datetime(df[i])\n",
    "    df[i] = df[i].dt.date\n",
    "\n",
    "df.iloc[:, :8].info()"
   ]
  },
  {
   "cell_type": "markdown",
   "metadata": {},
   "source": [
    "**III.3 Changing product category name**"
   ]
  },
  {
   "cell_type": "code",
   "execution_count": 12,
   "metadata": {
    "ExecuteTime": {
     "end_time": "2020-12-29T09:56:50.814210Z",
     "start_time": "2020-12-29T09:56:50.278717Z"
    }
   },
   "outputs": [],
   "source": [
    "for i, j in zip(tsl['product_category_name'],\n",
    "                tsl['product_category_name_english']):\n",
    "    df['product_category_name'].replace({i: j}, inplace=True)\n",
    "\n",
    "# Category in english"
   ]
  },
  {
   "cell_type": "markdown",
   "metadata": {},
   "source": [
    "### IV. Exploration"
   ]
  },
  {
   "cell_type": "markdown",
   "metadata": {},
   "source": [
    "See Exploration in A_Exploration_RFM notebook"
   ]
  },
  {
   "cell_type": "markdown",
   "metadata": {},
   "source": [
    "### V. Feature engineering "
   ]
  },
  {
   "cell_type": "markdown",
   "metadata": {},
   "source": [
    "**V.1 Create Recency, Frequency, Amount Features**"
   ]
  },
  {
   "cell_type": "code",
   "execution_count": 13,
   "metadata": {
    "ExecuteTime": {
     "end_time": "2020-12-29T09:56:53.260316Z",
     "start_time": "2020-12-29T09:56:53.121728Z"
    }
   },
   "outputs": [],
   "source": [
    "# Transform categorical datas with one hot encoder\n",
    "one_hot = pd.get_dummies(df['payment_type'])\n",
    "df.drop(columns='payment_type', inplace=True)\n",
    "df = pd.concat([df, one_hot], axis=1)"
   ]
  },
  {
   "cell_type": "code",
   "execution_count": 14,
   "metadata": {
    "ExecuteTime": {
     "end_time": "2020-12-29T09:56:54.744218Z",
     "start_time": "2020-12-29T09:56:54.578132Z"
    }
   },
   "outputs": [],
   "source": [
    "# Feature extracting the first command by customers\n",
    "R_table = df[['customer_unique_id',\n",
    "              'order_approved_at']].sort_values(by='order_approved_at')\n",
    "R_table.drop_duplicates(subset='customer_unique_id', keep='last', inplace=True)"
   ]
  },
  {
   "cell_type": "code",
   "execution_count": 15,
   "metadata": {
    "ExecuteTime": {
     "end_time": "2020-12-29T09:56:55.311072Z",
     "start_time": "2020-12-29T09:56:55.125124Z"
    }
   },
   "outputs": [],
   "source": [
    "# Feature extracting the number of command by customers\n",
    "F_table = df[['customer_unique_id',\n",
    "              'order_approved_at']].sort_values(by='order_approved_at')\n",
    "\n",
    "F_table = F_table.groupby(['customer_unique_id']).count()"
   ]
  },
  {
   "cell_type": "code",
   "execution_count": 16,
   "metadata": {
    "ExecuteTime": {
     "end_time": "2020-12-29T09:56:56.014869Z",
     "start_time": "2020-12-29T09:56:55.845607Z"
    }
   },
   "outputs": [],
   "source": [
    "import numpy as np\n",
    "\n",
    "# Feature extracting payment type, number of loan and total amount spent on the website\n",
    "df['price'] = df['price'] + df['freight_value']\n",
    "\n",
    "M_table = pd.pivot_table(df,\n",
    "                         values=['price'],\n",
    "                         index=['customer_unique_id'],\n",
    "                         aggfunc=np.sum)"
   ]
  },
  {
   "cell_type": "code",
   "execution_count": 17,
   "metadata": {
    "ExecuteTime": {
     "end_time": "2020-12-29T09:56:56.773655Z",
     "start_time": "2020-12-29T09:56:56.732806Z"
    }
   },
   "outputs": [],
   "source": [
    "# Concatenate F & M table\n",
    "FM_table = pd.concat([F_table, M_table], axis=1)\n",
    "FM_table['n_command'] = FM_table['order_approved_at']\n",
    "FM_table.drop(columns='order_approved_at', inplace=True)"
   ]
  },
  {
   "cell_type": "code",
   "execution_count": 18,
   "metadata": {
    "ExecuteTime": {
     "end_time": "2020-12-29T09:56:57.786658Z",
     "start_time": "2020-12-29T09:56:57.652093Z"
    }
   },
   "outputs": [
    {
     "name": "stdout",
     "output_type": "stream",
     "text": [
      "\n",
      "MERGED dF | Key unique value: 92081 | Shape: (92081, 5)\n",
      "\n",
      " both          92081\n",
      "right_only        0\n",
      "left_only         0\n",
      "Name: _merge, dtype: int64\n"
     ]
    }
   ],
   "source": [
    "# Merge R & FM table\n",
    "RFM_table = R_table.merge(FM_table, on='customer_unique_id', indicator=True)\n",
    "\n",
    "# Then check the dF merged\n",
    "print('\\nMERGED dF | Key unique value:',\n",
    "      len(RFM_table['customer_unique_id'].unique()), '| Shape:',\n",
    "      RFM_table.shape)\n",
    "\n",
    "print('\\n', RFM_table['_merge'].value_counts())\n",
    "RFM_table.drop(columns='_merge', inplace=True)\n",
    "RFM_table.drop(columns='customer_unique_id', inplace=True)"
   ]
  },
  {
   "cell_type": "code",
   "execution_count": 19,
   "metadata": {
    "ExecuteTime": {
     "end_time": "2020-12-29T09:56:58.350307Z",
     "start_time": "2020-12-29T09:56:58.340285Z"
    }
   },
   "outputs": [
    {
     "data": {
      "text/html": [
       "<div>\n",
       "<style scoped>\n",
       "    .dataframe tbody tr th:only-of-type {\n",
       "        vertical-align: middle;\n",
       "    }\n",
       "\n",
       "    .dataframe tbody tr th {\n",
       "        vertical-align: top;\n",
       "    }\n",
       "\n",
       "    .dataframe thead th {\n",
       "        text-align: right;\n",
       "    }\n",
       "</style>\n",
       "<table border=\"1\" class=\"dataframe\">\n",
       "  <thead>\n",
       "    <tr style=\"text-align: right;\">\n",
       "      <th></th>\n",
       "      <th>order_approved_at</th>\n",
       "      <th>price</th>\n",
       "      <th>n_command</th>\n",
       "    </tr>\n",
       "  </thead>\n",
       "  <tbody>\n",
       "    <tr>\n",
       "      <th>0</th>\n",
       "      <td>2016-10-04</td>\n",
       "      <td>92.27</td>\n",
       "      <td>1</td>\n",
       "    </tr>\n",
       "    <tr>\n",
       "      <th>1</th>\n",
       "      <td>2016-10-04</td>\n",
       "      <td>319.00</td>\n",
       "      <td>1</td>\n",
       "    </tr>\n",
       "    <tr>\n",
       "      <th>2</th>\n",
       "      <td>2016-10-04</td>\n",
       "      <td>18.62</td>\n",
       "      <td>1</td>\n",
       "    </tr>\n",
       "    <tr>\n",
       "      <th>3</th>\n",
       "      <td>2016-10-04</td>\n",
       "      <td>35.61</td>\n",
       "      <td>1</td>\n",
       "    </tr>\n",
       "    <tr>\n",
       "      <th>4</th>\n",
       "      <td>2016-10-04</td>\n",
       "      <td>101.44</td>\n",
       "      <td>2</td>\n",
       "    </tr>\n",
       "  </tbody>\n",
       "</table>\n",
       "</div>"
      ],
      "text/plain": [
       "  order_approved_at   price  n_command\n",
       "0        2016-10-04   92.27          1\n",
       "1        2016-10-04  319.00          1\n",
       "2        2016-10-04   18.62          1\n",
       "3        2016-10-04   35.61          1\n",
       "4        2016-10-04  101.44          2"
      ]
     },
     "execution_count": 19,
     "metadata": {},
     "output_type": "execute_result"
    }
   ],
   "source": [
    "RFM_table.head()"
   ]
  },
  {
   "cell_type": "markdown",
   "metadata": {},
   "source": [
    "**V.2 Ordering customer recency**"
   ]
  },
  {
   "cell_type": "code",
   "execution_count": 20,
   "metadata": {
    "ExecuteTime": {
     "end_time": "2020-12-29T09:57:01.047243Z",
     "start_time": "2020-12-29T09:57:00.957539Z"
    }
   },
   "outputs": [
    {
     "name": "stderr",
     "output_type": "stream",
     "text": [
      "C:\\Users\\DrDjekyl\\anaconda3\\lib\\site-packages\\pandas\\core\\indexing.py:670: SettingWithCopyWarning: \n",
      "A value is trying to be set on a copy of a slice from a DataFrame\n",
      "\n",
      "See the caveats in the documentation: https://pandas.pydata.org/pandas-docs/stable/user_guide/indexing.html#returning-a-view-versus-a-copy\n",
      "  iloc._setitem_with_indexer(indexer, value)\n"
     ]
    }
   ],
   "source": [
    "from datetime import timedelta\n",
    "\n",
    "month = timedelta(days=30)\n",
    "trim = timedelta(days=90)\n",
    "half = timedelta(days=182)\n",
    "year = timedelta(days=365)\n",
    "\n",
    "new = np.where(\n",
    "    R_table['order_approved_at'] > R_table['order_approved_at'].max() - month)\n",
    "\n",
    "very_recent = np.where(\n",
    "    R_table['order_approved_at'] > R_table['order_approved_at'].max() - trim)\n",
    "\n",
    "recent = np.where(\n",
    "    R_table['order_approved_at'] > R_table['order_approved_at'].max() - half)\n",
    "\n",
    "old = np.where(\n",
    "    R_table['order_approved_at'] > R_table['order_approved_at'].max() - year)\n",
    "\n",
    "R_table['order_approved_at'] = 1\n",
    "\n",
    "R_table['order_approved_at'].iloc[old] = 2\n",
    "\n",
    "R_table['order_approved_at'].iloc[recent] = 3\n",
    "\n",
    "R_table['order_approved_at'].iloc[very_recent] = 4\n",
    "\n",
    "R_table['order_approved_at'].iloc[new] = 5"
   ]
  },
  {
   "cell_type": "markdown",
   "metadata": {
    "ExecuteTime": {
     "end_time": "2020-12-18T10:11:11.087657Z",
     "start_time": "2020-12-18T10:11:11.059744Z"
    }
   },
   "source": [
    "**V.3 Other features**"
   ]
  },
  {
   "cell_type": "code",
   "execution_count": 21,
   "metadata": {
    "ExecuteTime": {
     "end_time": "2020-12-29T09:57:24.389181Z",
     "start_time": "2020-12-29T09:57:24.224625Z"
    }
   },
   "outputs": [],
   "source": [
    "encoded_features = pd.pivot_table(df,\n",
    "                                  values=df.iloc[:, 36:],\n",
    "                                  index=['customer_unique_id'],\n",
    "                                  aggfunc=np.sum)"
   ]
  },
  {
   "cell_type": "code",
   "execution_count": 22,
   "metadata": {
    "ExecuteTime": {
     "end_time": "2020-12-29T09:57:25.330643Z",
     "start_time": "2020-12-29T09:57:25.307036Z"
    }
   },
   "outputs": [
    {
     "data": {
      "text/html": [
       "<div>\n",
       "<style scoped>\n",
       "    .dataframe tbody tr th:only-of-type {\n",
       "        vertical-align: middle;\n",
       "    }\n",
       "\n",
       "    .dataframe tbody tr th {\n",
       "        vertical-align: top;\n",
       "    }\n",
       "\n",
       "    .dataframe thead th {\n",
       "        text-align: right;\n",
       "    }\n",
       "</style>\n",
       "<table border=\"1\" class=\"dataframe\">\n",
       "  <thead>\n",
       "    <tr style=\"text-align: right;\">\n",
       "      <th></th>\n",
       "      <th>boleto</th>\n",
       "      <th>credit_card</th>\n",
       "      <th>debit_card</th>\n",
       "      <th>voucher</th>\n",
       "    </tr>\n",
       "  </thead>\n",
       "  <tbody>\n",
       "    <tr>\n",
       "      <th>0</th>\n",
       "      <td>0</td>\n",
       "      <td>1</td>\n",
       "      <td>0</td>\n",
       "      <td>0</td>\n",
       "    </tr>\n",
       "    <tr>\n",
       "      <th>1</th>\n",
       "      <td>1</td>\n",
       "      <td>0</td>\n",
       "      <td>0</td>\n",
       "      <td>0</td>\n",
       "    </tr>\n",
       "    <tr>\n",
       "      <th>2</th>\n",
       "      <td>0</td>\n",
       "      <td>1</td>\n",
       "      <td>0</td>\n",
       "      <td>0</td>\n",
       "    </tr>\n",
       "    <tr>\n",
       "      <th>3</th>\n",
       "      <td>0</td>\n",
       "      <td>1</td>\n",
       "      <td>0</td>\n",
       "      <td>0</td>\n",
       "    </tr>\n",
       "    <tr>\n",
       "      <th>4</th>\n",
       "      <td>0</td>\n",
       "      <td>1</td>\n",
       "      <td>0</td>\n",
       "      <td>0</td>\n",
       "    </tr>\n",
       "    <tr>\n",
       "      <th>...</th>\n",
       "      <td>...</td>\n",
       "      <td>...</td>\n",
       "      <td>...</td>\n",
       "      <td>...</td>\n",
       "    </tr>\n",
       "    <tr>\n",
       "      <th>118310</th>\n",
       "      <td>1</td>\n",
       "      <td>0</td>\n",
       "      <td>0</td>\n",
       "      <td>0</td>\n",
       "    </tr>\n",
       "    <tr>\n",
       "      <th>118311</th>\n",
       "      <td>1</td>\n",
       "      <td>0</td>\n",
       "      <td>0</td>\n",
       "      <td>0</td>\n",
       "    </tr>\n",
       "    <tr>\n",
       "      <th>118312</th>\n",
       "      <td>1</td>\n",
       "      <td>0</td>\n",
       "      <td>0</td>\n",
       "      <td>0</td>\n",
       "    </tr>\n",
       "    <tr>\n",
       "      <th>118313</th>\n",
       "      <td>0</td>\n",
       "      <td>1</td>\n",
       "      <td>0</td>\n",
       "      <td>0</td>\n",
       "    </tr>\n",
       "    <tr>\n",
       "      <th>118314</th>\n",
       "      <td>0</td>\n",
       "      <td>1</td>\n",
       "      <td>0</td>\n",
       "      <td>0</td>\n",
       "    </tr>\n",
       "  </tbody>\n",
       "</table>\n",
       "<p>114073 rows × 4 columns</p>\n",
       "</div>"
      ],
      "text/plain": [
       "        boleto  credit_card  debit_card  voucher\n",
       "0            0            1           0        0\n",
       "1            1            0           0        0\n",
       "2            0            1           0        0\n",
       "3            0            1           0        0\n",
       "4            0            1           0        0\n",
       "...        ...          ...         ...      ...\n",
       "118310       1            0           0        0\n",
       "118311       1            0           0        0\n",
       "118312       1            0           0        0\n",
       "118313       0            1           0        0\n",
       "118314       0            1           0        0\n",
       "\n",
       "[114073 rows x 4 columns]"
      ]
     },
     "execution_count": 22,
     "metadata": {},
     "output_type": "execute_result"
    }
   ],
   "source": [
    "df.iloc[:, 36:]"
   ]
  },
  {
   "cell_type": "code",
   "execution_count": 23,
   "metadata": {
    "ExecuteTime": {
     "end_time": "2020-12-29T09:57:26.828227Z",
     "start_time": "2020-12-29T09:57:26.539032Z"
    }
   },
   "outputs": [
    {
     "data": {
      "text/plain": [
       "0         168.0\n",
       "1         336.0\n",
       "2         408.0\n",
       "3         192.0\n",
       "4         336.0\n",
       "          ...  \n",
       "118310    792.0\n",
       "118311    120.0\n",
       "118312    456.0\n",
       "118313    192.0\n",
       "118314    192.0\n",
       "Name: delivery_hours, Length: 114073, dtype: float64"
      ]
     },
     "execution_count": 23,
     "metadata": {},
     "output_type": "execute_result"
    }
   ],
   "source": [
    "est_del = df['order_estimated_delivery_date']\n",
    "real_del = df['order_delivered_customer_date']\n",
    "app_del = df['order_approved_at']\n",
    "\n",
    "# Feature to express time span between order and delivery\n",
    "df['delivery_hours'] = (real_del - app_del).astype('timedelta64[h]')\n",
    "\n",
    "df['delivery_hours']"
   ]
  },
  {
   "cell_type": "code",
   "execution_count": 24,
   "metadata": {
    "ExecuteTime": {
     "end_time": "2020-12-29T09:57:40.915166Z",
     "start_time": "2020-12-29T09:57:39.699430Z"
    }
   },
   "outputs": [
    {
     "data": {
      "text/plain": [
       "0    0\n",
       "1    0\n",
       "2    0\n",
       "3    0\n",
       "4    0\n",
       "5    1\n",
       "Name: delay, dtype: int64"
      ]
     },
     "execution_count": 24,
     "metadata": {},
     "output_type": "execute_result"
    }
   ],
   "source": [
    "from sklearn import preprocessing\n",
    "\n",
    "# Feature to express delay in oder delivery\n",
    "df['delay'] = est_del[est_del < real_del].isna()\n",
    "df['delay'].replace(np.nan, 1, inplace=True)\n",
    "\n",
    "# Label False to 0\n",
    "le = preprocessing.LabelEncoder()\n",
    "le.fit(df['delay'])\n",
    "df['delay'] = le.transform(df['delay'])\n",
    "\n",
    "# Invert 0 to 1 and 1 to 0\n",
    "df['delay'].replace(1, 'a', inplace=True)\n",
    "df['delay'].replace(0, 1, inplace=True)\n",
    "df['delay'].replace('a', 0, inplace=True)\n",
    "\n",
    "# 0 = No delay, 1 = Delay\n",
    "df['delay'].head(6)"
   ]
  },
  {
   "cell_type": "code",
   "execution_count": 25,
   "metadata": {
    "ExecuteTime": {
     "end_time": "2020-12-29T09:57:42.588897Z",
     "start_time": "2020-12-29T09:57:42.424880Z"
    }
   },
   "outputs": [],
   "source": [
    "delivery = pd.pivot_table(df,\n",
    "                          values=['delivery_hours'],\n",
    "                          index=['customer_unique_id'],\n",
    "                          aggfunc=np.mean)"
   ]
  },
  {
   "cell_type": "code",
   "execution_count": 26,
   "metadata": {
    "ExecuteTime": {
     "end_time": "2020-12-29T09:57:43.372192Z",
     "start_time": "2020-12-29T09:57:43.190774Z"
    }
   },
   "outputs": [],
   "source": [
    "delay = pd.pivot_table(df,\n",
    "                       values=['delay'],\n",
    "                       index=['customer_unique_id'],\n",
    "                       aggfunc=np.sum)"
   ]
  },
  {
   "cell_type": "code",
   "execution_count": 27,
   "metadata": {
    "ExecuteTime": {
     "end_time": "2020-12-29T09:57:44.335042Z",
     "start_time": "2020-12-29T09:57:44.169191Z"
    }
   },
   "outputs": [],
   "source": [
    "review = pd.pivot_table(df,\n",
    "                        values=['review_score'],\n",
    "                        index=['customer_unique_id'],\n",
    "                        aggfunc=np.median)"
   ]
  },
  {
   "cell_type": "code",
   "execution_count": 28,
   "metadata": {
    "ExecuteTime": {
     "end_time": "2020-12-29T09:57:45.100239Z",
     "start_time": "2020-12-29T09:57:44.917255Z"
    }
   },
   "outputs": [],
   "source": [
    "payment = pd.pivot_table(df,\n",
    "                         values=['payment_sequential', 'payment_installments'],\n",
    "                         index=['customer_unique_id'],\n",
    "                         aggfunc=np.mean)"
   ]
  },
  {
   "cell_type": "code",
   "execution_count": 29,
   "metadata": {
    "ExecuteTime": {
     "end_time": "2020-12-29T09:57:45.741672Z",
     "start_time": "2020-12-29T09:57:45.578574Z"
    }
   },
   "outputs": [],
   "source": [
    "items = pd.pivot_table(df,\n",
    "                       values=['order_item_id'],\n",
    "                       index=['customer_unique_id'],\n",
    "                       aggfunc=np.median)"
   ]
  },
  {
   "cell_type": "code",
   "execution_count": 30,
   "metadata": {
    "ExecuteTime": {
     "end_time": "2020-12-29T09:58:07.545630Z",
     "start_time": "2020-12-29T09:58:07.289323Z"
    }
   },
   "outputs": [
    {
     "name": "stdout",
     "output_type": "stream",
     "text": [
      "\n",
      "MERGED dF | Key unique value: 92081 | Shape: (92081, 15)\n",
      "\n",
      " both          92081\n",
      "right_only        0\n",
      "left_only         0\n",
      "Name: _merge, dtype: int64\n"
     ]
    }
   ],
   "source": [
    "df_final = pd.concat(\n",
    "    [FM_table, review, delivery, delay, encoded_features, payment, items],\n",
    "    axis=1).merge(R_table, on='customer_unique_id', indicator=True)\n",
    "\n",
    "# Then check the dF merged\n",
    "print('\\nMERGED dF | Key unique value:',\n",
    "      len(df_final['customer_unique_id'].unique()), '| Shape:', df_final.shape)\n",
    "\n",
    "print('\\n', df_final['_merge'].value_counts())\n",
    "df_final.drop(columns='_merge', inplace=True)\n",
    "df_final.drop(columns='customer_unique_id', inplace=True)"
   ]
  },
  {
   "cell_type": "code",
   "execution_count": 31,
   "metadata": {
    "ExecuteTime": {
     "end_time": "2020-12-29T09:58:08.712953Z",
     "start_time": "2020-12-29T09:58:08.690924Z"
    }
   },
   "outputs": [
    {
     "data": {
      "text/html": [
       "<div>\n",
       "<style scoped>\n",
       "    .dataframe tbody tr th:only-of-type {\n",
       "        vertical-align: middle;\n",
       "    }\n",
       "\n",
       "    .dataframe tbody tr th {\n",
       "        vertical-align: top;\n",
       "    }\n",
       "\n",
       "    .dataframe thead th {\n",
       "        text-align: right;\n",
       "    }\n",
       "</style>\n",
       "<table border=\"1\" class=\"dataframe\">\n",
       "  <thead>\n",
       "    <tr style=\"text-align: right;\">\n",
       "      <th></th>\n",
       "      <th>price</th>\n",
       "      <th>n_command</th>\n",
       "      <th>review_score</th>\n",
       "      <th>delivery_hours</th>\n",
       "      <th>delay</th>\n",
       "      <th>boleto</th>\n",
       "      <th>credit_card</th>\n",
       "      <th>debit_card</th>\n",
       "      <th>voucher</th>\n",
       "      <th>payment_installments</th>\n",
       "      <th>payment_sequential</th>\n",
       "      <th>order_item_id</th>\n",
       "      <th>order_approved_at</th>\n",
       "    </tr>\n",
       "  </thead>\n",
       "  <tbody>\n",
       "    <tr>\n",
       "      <th>0</th>\n",
       "      <td>141.90</td>\n",
       "      <td>1</td>\n",
       "      <td>5.0</td>\n",
       "      <td>144.0</td>\n",
       "      <td>0</td>\n",
       "      <td>0</td>\n",
       "      <td>1</td>\n",
       "      <td>0</td>\n",
       "      <td>0</td>\n",
       "      <td>8.0</td>\n",
       "      <td>1.0</td>\n",
       "      <td>1.0</td>\n",
       "      <td>3</td>\n",
       "    </tr>\n",
       "    <tr>\n",
       "      <th>1</th>\n",
       "      <td>27.19</td>\n",
       "      <td>1</td>\n",
       "      <td>4.0</td>\n",
       "      <td>72.0</td>\n",
       "      <td>0</td>\n",
       "      <td>0</td>\n",
       "      <td>1</td>\n",
       "      <td>0</td>\n",
       "      <td>0</td>\n",
       "      <td>1.0</td>\n",
       "      <td>1.0</td>\n",
       "      <td>1.0</td>\n",
       "      <td>3</td>\n",
       "    </tr>\n",
       "    <tr>\n",
       "      <th>2</th>\n",
       "      <td>86.22</td>\n",
       "      <td>1</td>\n",
       "      <td>3.0</td>\n",
       "      <td>624.0</td>\n",
       "      <td>0</td>\n",
       "      <td>0</td>\n",
       "      <td>1</td>\n",
       "      <td>0</td>\n",
       "      <td>0</td>\n",
       "      <td>8.0</td>\n",
       "      <td>1.0</td>\n",
       "      <td>1.0</td>\n",
       "      <td>1</td>\n",
       "    </tr>\n",
       "    <tr>\n",
       "      <th>3</th>\n",
       "      <td>43.62</td>\n",
       "      <td>1</td>\n",
       "      <td>4.0</td>\n",
       "      <td>480.0</td>\n",
       "      <td>0</td>\n",
       "      <td>0</td>\n",
       "      <td>1</td>\n",
       "      <td>0</td>\n",
       "      <td>0</td>\n",
       "      <td>4.0</td>\n",
       "      <td>1.0</td>\n",
       "      <td>1.0</td>\n",
       "      <td>2</td>\n",
       "    </tr>\n",
       "    <tr>\n",
       "      <th>4</th>\n",
       "      <td>196.89</td>\n",
       "      <td>1</td>\n",
       "      <td>5.0</td>\n",
       "      <td>312.0</td>\n",
       "      <td>0</td>\n",
       "      <td>0</td>\n",
       "      <td>1</td>\n",
       "      <td>0</td>\n",
       "      <td>0</td>\n",
       "      <td>6.0</td>\n",
       "      <td>1.0</td>\n",
       "      <td>1.0</td>\n",
       "      <td>2</td>\n",
       "    </tr>\n",
       "    <tr>\n",
       "      <th>...</th>\n",
       "      <td>...</td>\n",
       "      <td>...</td>\n",
       "      <td>...</td>\n",
       "      <td>...</td>\n",
       "      <td>...</td>\n",
       "      <td>...</td>\n",
       "      <td>...</td>\n",
       "      <td>...</td>\n",
       "      <td>...</td>\n",
       "      <td>...</td>\n",
       "      <td>...</td>\n",
       "      <td>...</td>\n",
       "      <td>...</td>\n",
       "    </tr>\n",
       "    <tr>\n",
       "      <th>92076</th>\n",
       "      <td>2067.42</td>\n",
       "      <td>2</td>\n",
       "      <td>5.0</td>\n",
       "      <td>672.0</td>\n",
       "      <td>0</td>\n",
       "      <td>0</td>\n",
       "      <td>2</td>\n",
       "      <td>0</td>\n",
       "      <td>0</td>\n",
       "      <td>10.0</td>\n",
       "      <td>1.0</td>\n",
       "      <td>1.5</td>\n",
       "      <td>1</td>\n",
       "    </tr>\n",
       "    <tr>\n",
       "      <th>92077</th>\n",
       "      <td>84.58</td>\n",
       "      <td>1</td>\n",
       "      <td>4.0</td>\n",
       "      <td>720.0</td>\n",
       "      <td>0</td>\n",
       "      <td>0</td>\n",
       "      <td>1</td>\n",
       "      <td>0</td>\n",
       "      <td>0</td>\n",
       "      <td>1.0</td>\n",
       "      <td>1.0</td>\n",
       "      <td>1.0</td>\n",
       "      <td>2</td>\n",
       "    </tr>\n",
       "    <tr>\n",
       "      <th>92078</th>\n",
       "      <td>112.46</td>\n",
       "      <td>1</td>\n",
       "      <td>5.0</td>\n",
       "      <td>360.0</td>\n",
       "      <td>0</td>\n",
       "      <td>0</td>\n",
       "      <td>1</td>\n",
       "      <td>0</td>\n",
       "      <td>0</td>\n",
       "      <td>1.0</td>\n",
       "      <td>1.0</td>\n",
       "      <td>1.0</td>\n",
       "      <td>1</td>\n",
       "    </tr>\n",
       "    <tr>\n",
       "      <th>92079</th>\n",
       "      <td>133.69</td>\n",
       "      <td>1</td>\n",
       "      <td>5.0</td>\n",
       "      <td>288.0</td>\n",
       "      <td>0</td>\n",
       "      <td>0</td>\n",
       "      <td>1</td>\n",
       "      <td>0</td>\n",
       "      <td>0</td>\n",
       "      <td>5.0</td>\n",
       "      <td>1.0</td>\n",
       "      <td>1.0</td>\n",
       "      <td>3</td>\n",
       "    </tr>\n",
       "    <tr>\n",
       "      <th>92080</th>\n",
       "      <td>71.56</td>\n",
       "      <td>1</td>\n",
       "      <td>5.0</td>\n",
       "      <td>168.0</td>\n",
       "      <td>0</td>\n",
       "      <td>0</td>\n",
       "      <td>1</td>\n",
       "      <td>0</td>\n",
       "      <td>0</td>\n",
       "      <td>4.0</td>\n",
       "      <td>1.0</td>\n",
       "      <td>1.0</td>\n",
       "      <td>1</td>\n",
       "    </tr>\n",
       "  </tbody>\n",
       "</table>\n",
       "<p>92081 rows × 13 columns</p>\n",
       "</div>"
      ],
      "text/plain": [
       "         price  n_command  review_score  delivery_hours  delay  boleto  \\\n",
       "0       141.90          1           5.0           144.0      0       0   \n",
       "1        27.19          1           4.0            72.0      0       0   \n",
       "2        86.22          1           3.0           624.0      0       0   \n",
       "3        43.62          1           4.0           480.0      0       0   \n",
       "4       196.89          1           5.0           312.0      0       0   \n",
       "...        ...        ...           ...             ...    ...     ...   \n",
       "92076  2067.42          2           5.0           672.0      0       0   \n",
       "92077    84.58          1           4.0           720.0      0       0   \n",
       "92078   112.46          1           5.0           360.0      0       0   \n",
       "92079   133.69          1           5.0           288.0      0       0   \n",
       "92080    71.56          1           5.0           168.0      0       0   \n",
       "\n",
       "       credit_card  debit_card  voucher  payment_installments  \\\n",
       "0                1           0        0                   8.0   \n",
       "1                1           0        0                   1.0   \n",
       "2                1           0        0                   8.0   \n",
       "3                1           0        0                   4.0   \n",
       "4                1           0        0                   6.0   \n",
       "...            ...         ...      ...                   ...   \n",
       "92076            2           0        0                  10.0   \n",
       "92077            1           0        0                   1.0   \n",
       "92078            1           0        0                   1.0   \n",
       "92079            1           0        0                   5.0   \n",
       "92080            1           0        0                   4.0   \n",
       "\n",
       "       payment_sequential  order_item_id  order_approved_at  \n",
       "0                     1.0            1.0                  3  \n",
       "1                     1.0            1.0                  3  \n",
       "2                     1.0            1.0                  1  \n",
       "3                     1.0            1.0                  2  \n",
       "4                     1.0            1.0                  2  \n",
       "...                   ...            ...                ...  \n",
       "92076                 1.0            1.5                  1  \n",
       "92077                 1.0            1.0                  2  \n",
       "92078                 1.0            1.0                  1  \n",
       "92079                 1.0            1.0                  3  \n",
       "92080                 1.0            1.0                  1  \n",
       "\n",
       "[92081 rows x 13 columns]"
      ]
     },
     "execution_count": 31,
     "metadata": {},
     "output_type": "execute_result"
    }
   ],
   "source": [
    "df_final"
   ]
  },
  {
   "cell_type": "markdown",
   "metadata": {},
   "source": [
    "**V.4 Log, Scaling, Sampling**"
   ]
  },
  {
   "cell_type": "code",
   "execution_count": 32,
   "metadata": {
    "ExecuteTime": {
     "end_time": "2020-12-29T09:58:31.224924Z",
     "start_time": "2020-12-29T09:58:31.150891Z"
    }
   },
   "outputs": [
    {
     "data": {
      "text/html": [
       "<div>\n",
       "<style scoped>\n",
       "    .dataframe tbody tr th:only-of-type {\n",
       "        vertical-align: middle;\n",
       "    }\n",
       "\n",
       "    .dataframe tbody tr th {\n",
       "        vertical-align: top;\n",
       "    }\n",
       "\n",
       "    .dataframe thead th {\n",
       "        text-align: right;\n",
       "    }\n",
       "</style>\n",
       "<table border=\"1\" class=\"dataframe\">\n",
       "  <thead>\n",
       "    <tr style=\"text-align: right;\">\n",
       "      <th></th>\n",
       "      <th>price</th>\n",
       "      <th>n_command</th>\n",
       "      <th>review_score</th>\n",
       "      <th>delivery_hours</th>\n",
       "      <th>delay</th>\n",
       "      <th>boleto</th>\n",
       "      <th>credit_card</th>\n",
       "      <th>debit_card</th>\n",
       "      <th>voucher</th>\n",
       "      <th>payment_installments</th>\n",
       "      <th>payment_sequential</th>\n",
       "      <th>order_item_id</th>\n",
       "      <th>order_approved_at</th>\n",
       "    </tr>\n",
       "  </thead>\n",
       "  <tbody>\n",
       "    <tr>\n",
       "      <th>0</th>\n",
       "      <td>4.96</td>\n",
       "      <td>1</td>\n",
       "      <td>5.0</td>\n",
       "      <td>4.98</td>\n",
       "      <td>0</td>\n",
       "      <td>0</td>\n",
       "      <td>1</td>\n",
       "      <td>0</td>\n",
       "      <td>0</td>\n",
       "      <td>8.0</td>\n",
       "      <td>1.0</td>\n",
       "      <td>1.0</td>\n",
       "      <td>3</td>\n",
       "    </tr>\n",
       "    <tr>\n",
       "      <th>1</th>\n",
       "      <td>3.34</td>\n",
       "      <td>1</td>\n",
       "      <td>4.0</td>\n",
       "      <td>4.29</td>\n",
       "      <td>0</td>\n",
       "      <td>0</td>\n",
       "      <td>1</td>\n",
       "      <td>0</td>\n",
       "      <td>0</td>\n",
       "      <td>1.0</td>\n",
       "      <td>1.0</td>\n",
       "      <td>1.0</td>\n",
       "      <td>3</td>\n",
       "    </tr>\n",
       "    <tr>\n",
       "      <th>2</th>\n",
       "      <td>4.47</td>\n",
       "      <td>1</td>\n",
       "      <td>3.0</td>\n",
       "      <td>6.44</td>\n",
       "      <td>0</td>\n",
       "      <td>0</td>\n",
       "      <td>1</td>\n",
       "      <td>0</td>\n",
       "      <td>0</td>\n",
       "      <td>8.0</td>\n",
       "      <td>1.0</td>\n",
       "      <td>1.0</td>\n",
       "      <td>1</td>\n",
       "    </tr>\n",
       "    <tr>\n",
       "      <th>3</th>\n",
       "      <td>3.80</td>\n",
       "      <td>1</td>\n",
       "      <td>4.0</td>\n",
       "      <td>6.18</td>\n",
       "      <td>0</td>\n",
       "      <td>0</td>\n",
       "      <td>1</td>\n",
       "      <td>0</td>\n",
       "      <td>0</td>\n",
       "      <td>4.0</td>\n",
       "      <td>1.0</td>\n",
       "      <td>1.0</td>\n",
       "      <td>2</td>\n",
       "    </tr>\n",
       "    <tr>\n",
       "      <th>4</th>\n",
       "      <td>5.29</td>\n",
       "      <td>1</td>\n",
       "      <td>5.0</td>\n",
       "      <td>5.75</td>\n",
       "      <td>0</td>\n",
       "      <td>0</td>\n",
       "      <td>1</td>\n",
       "      <td>0</td>\n",
       "      <td>0</td>\n",
       "      <td>6.0</td>\n",
       "      <td>1.0</td>\n",
       "      <td>1.0</td>\n",
       "      <td>2</td>\n",
       "    </tr>\n",
       "  </tbody>\n",
       "</table>\n",
       "</div>"
      ],
      "text/plain": [
       "   price  n_command  review_score  delivery_hours  delay  boleto  credit_card  \\\n",
       "0   4.96          1           5.0            4.98      0       0            1   \n",
       "1   3.34          1           4.0            4.29      0       0            1   \n",
       "2   4.47          1           3.0            6.44      0       0            1   \n",
       "3   3.80          1           4.0            6.18      0       0            1   \n",
       "4   5.29          1           5.0            5.75      0       0            1   \n",
       "\n",
       "   debit_card  voucher  payment_installments  payment_sequential  \\\n",
       "0           0        0                   8.0                 1.0   \n",
       "1           0        0                   1.0                 1.0   \n",
       "2           0        0                   8.0                 1.0   \n",
       "3           0        0                   4.0                 1.0   \n",
       "4           0        0                   6.0                 1.0   \n",
       "\n",
       "   order_item_id  order_approved_at  \n",
       "0            1.0                  3  \n",
       "1            1.0                  3  \n",
       "2            1.0                  1  \n",
       "3            1.0                  2  \n",
       "4            1.0                  2  "
      ]
     },
     "execution_count": 32,
     "metadata": {},
     "output_type": "execute_result"
    }
   ],
   "source": [
    "df_final[['price', 'delivery_hours']] = df_final[['price', 'delivery_hours'\n",
    "                                                  ]].add(1).apply(np.log)\n",
    "df_final = df_final.round(2)\n",
    "\n",
    "df_final.head()"
   ]
  },
  {
   "cell_type": "code",
   "execution_count": 33,
   "metadata": {
    "ExecuteTime": {
     "end_time": "2020-12-29T09:58:32.942592Z",
     "start_time": "2020-12-29T09:58:32.913118Z"
    }
   },
   "outputs": [],
   "source": [
    "# Delete infinite values\n",
    "with pd.option_context('mode.use_inf_as_null', True):\n",
    "    df_final = df_final.dropna()"
   ]
  },
  {
   "cell_type": "code",
   "execution_count": 34,
   "metadata": {
    "ExecuteTime": {
     "end_time": "2020-12-29T09:58:44.079157Z",
     "start_time": "2020-12-29T09:58:44.035434Z"
    }
   },
   "outputs": [],
   "source": [
    "from sklearn import preprocessing\n",
    "\n",
    "# Scaling dF\n",
    "df_scaled = preprocessing.StandardScaler().fit_transform(df_final)"
   ]
  },
  {
   "cell_type": "code",
   "execution_count": 39,
   "metadata": {
    "ExecuteTime": {
     "end_time": "2020-12-24T06:56:39.868409Z",
     "start_time": "2020-12-24T06:56:38.959524Z"
    }
   },
   "outputs": [
    {
     "name": "stderr",
     "output_type": "stream",
     "text": [
      "<ipython-input-39-f7f6f9225bc6>:57: SettingWithCopyWarning: \n",
      "A value is trying to be set on a copy of a slice from a DataFrame.\n",
      "Try using .loc[row_indexer,col_indexer] = value instead\n",
      "\n",
      "See the caveats in the documentation: https://pandas.pydata.org/pandas-docs/stable/user_guide/indexing.html#returning-a-view-versus-a-copy\n",
      "  tmp['size'] = 1\n"
     ]
    }
   ],
   "source": [
    "%run B_Support.ipynb\n",
    "\n",
    "# Sampling\n",
    "sample_df = stratified_sample(df_final, ['n_command', 'order_approved_at'],\n",
    "                              size=5000,\n",
    "                              keep_index=True)\n",
    "\n",
    "# Scaling sample\n",
    "sp_scaled = preprocessing.StandardScaler().fit_transform(sample_df.iloc[:, 1:])"
   ]
  },
  {
   "cell_type": "code",
   "execution_count": 68,
   "metadata": {
    "ExecuteTime": {
     "end_time": "2020-12-24T08:47:13.475127Z",
     "start_time": "2020-12-24T08:47:13.397802Z"
    }
   },
   "outputs": [
    {
     "name": "stdout",
     "output_type": "stream",
     "text": [
      "Stored 'df_scaled' (ndarray)\n",
      "Stored 'sample_df' (DataFrame)\n",
      "Stored 'sp_scaled' (ndarray)\n"
     ]
    }
   ],
   "source": [
    "%store df_scaled\n",
    "%store sample_df\n",
    "%store sp_scaled"
   ]
  },
  {
   "cell_type": "markdown",
   "metadata": {},
   "source": [
    "### VI. Principal Component Analysis"
   ]
  },
  {
   "cell_type": "code",
   "execution_count": 42,
   "metadata": {
    "ExecuteTime": {
     "end_time": "2020-12-24T06:56:52.308729Z",
     "start_time": "2020-12-24T06:56:52.259712Z"
    }
   },
   "outputs": [],
   "source": [
    "from sklearn import decomposition\n",
    "\n",
    "n_components = 13\n",
    "\n",
    "pca = decomposition.PCA(n_components=n_components)\n",
    "reduced = pca.fit_transform(df_scaled)"
   ]
  },
  {
   "cell_type": "code",
   "execution_count": 43,
   "metadata": {
    "ExecuteTime": {
     "end_time": "2020-12-24T06:56:53.490086Z",
     "start_time": "2020-12-24T06:56:53.470668Z"
    }
   },
   "outputs": [
    {
     "name": "stdout",
     "output_type": "stream",
     "text": [
      "[2.12419065e-01 1.48664238e-01 1.25983417e-01 1.15627914e-01\n",
      " 8.52921564e-02 7.94728612e-02 7.34100925e-02 5.33943007e-02\n",
      " 4.32564053e-02 3.64613954e-02 1.36279335e-02 1.23902206e-02\n",
      " 5.31323420e-32]\n",
      "1.0\n"
     ]
    }
   ],
   "source": [
    "print(pca.explained_variance_ratio_)\n",
    "print(pca.explained_variance_ratio_.sum())"
   ]
  },
  {
   "cell_type": "code",
   "execution_count": 44,
   "metadata": {
    "ExecuteTime": {
     "end_time": "2020-12-24T06:56:55.047966Z",
     "start_time": "2020-12-24T06:56:54.887230Z"
    }
   },
   "outputs": [
    {
     "data": {
      "image/png": "[encoded data removed]",
      "text/plain": [
       "<Figure size 432x288 with 1 Axes>"
      ]
     },
     "metadata": {
      "needs_background": "light"
     },
     "output_type": "display_data"
    }
   ],
   "source": [
    "import matplotlib.pyplot as plt\n",
    "\n",
    "plt.plot(np.arange(1, n_components + 1), pca.explained_variance_ratio_)\n",
    "\n",
    "plt.title('Determine number of components')\n",
    "plt.xlabel('n components')\n",
    "plt.ylabel('Explained variance ratio')\n",
    "\n",
    "plt.show()"
   ]
  },
  {
   "cell_type": "code",
   "execution_count": 45,
   "metadata": {
    "ExecuteTime": {
     "end_time": "2020-12-24T06:56:57.009643Z",
     "start_time": "2020-12-24T06:56:56.884797Z"
    }
   },
   "outputs": [
    {
     "data": {
      "image/png": "[encoded data removed]",
      "text/plain": [
       "<Figure size 432x288 with 1 Axes>"
      ]
     },
     "metadata": {
      "needs_background": "light"
     },
     "output_type": "display_data"
    }
   ],
   "source": [
    "plt.plot(np.arange(1, n_components + 1),\n",
    "         np.cumsum(pca.explained_variance_ratio_))\n",
    "\n",
    "plt.title('Determine number of components')\n",
    "plt.xlabel('n components')\n",
    "plt.ylabel('Explained variance ratio')\n",
    "\n",
    "plt.show()"
   ]
  },
  {
   "cell_type": "code",
   "execution_count": 46,
   "metadata": {
    "ExecuteTime": {
     "end_time": "2020-12-24T06:56:58.837802Z",
     "start_time": "2020-12-24T06:56:58.640440Z"
    }
   },
   "outputs": [
    {
     "data": {
      "image/png": "[encoded data removed]",
      "text/plain": [
       "<Figure size 576x576 with 1 Axes>"
      ]
     },
     "metadata": {
      "needs_background": "light"
     },
     "output_type": "display_data"
    }
   ],
   "source": [
    "# Plot a variable factor map for the first two dimensions.\n",
    "(fig, ax) = plt.subplots(figsize=(8, 8))\n",
    "\n",
    "for i in range(0, pca.components_.shape[1]):\n",
    "    ax.arrow(\n",
    "        0,\n",
    "        0,  # Start the arrow at the origin\n",
    "        pca.components_[0, i],  # 0 for PC1\n",
    "        pca.components_[1, i],  # 1 for PC2\n",
    "        head_width=0.05,\n",
    "        head_length=0.05)\n",
    "\n",
    "    plt.text(pca.components_[0, i] + 0.05, pca.components_[1, i] + 0.05,\n",
    "             sample_df.columns.values[i])\n",
    "\n",
    "# Add a unit circle for scale\n",
    "an = np.linspace(0, 2 * np.pi, 100)\n",
    "plt.plot(np.cos(an), np.sin(an))\n",
    "\n",
    "plt.axis('equal')\n",
    "ax.set_title('Variable factor map')\n",
    "\n",
    "plt.show()"
   ]
  },
  {
   "cell_type": "code",
   "execution_count": 70,
   "metadata": {
    "ExecuteTime": {
     "end_time": "2020-12-24T08:47:46.385816Z",
     "start_time": "2020-12-24T08:47:46.155947Z"
    }
   },
   "outputs": [
    {
     "data": {
      "text/plain": [
       "<matplotlib.collections.PathCollection at 0x23bb1c10d90>"
      ]
     },
     "execution_count": 70,
     "metadata": {},
     "output_type": "execute_result"
    },
    {
     "data": {
      "image/png": "[encoded data removed]",
      "text/plain": [
       "<Figure size 432x288 with 1 Axes>"
      ]
     },
     "metadata": {
      "needs_background": "light"
     },
     "output_type": "display_data"
    }
   ],
   "source": [
    "plt.scatter(reduced[:, 0], reduced[:, 1])"
   ]
  },
  {
   "cell_type": "code",
   "execution_count": 71,
   "metadata": {
    "ExecuteTime": {
     "end_time": "2020-12-24T08:47:48.883220Z",
     "start_time": "2020-12-24T08:47:48.804716Z"
    }
   },
   "outputs": [
    {
     "name": "stdout",
     "output_type": "stream",
     "text": [
      "Stored 'reduced' (ndarray)\n"
     ]
    }
   ],
   "source": [
    "%store reduced"
   ]
  },
  {
   "cell_type": "markdown",
   "metadata": {},
   "source": [
    "## VII. t-SNE"
   ]
  },
  {
   "cell_type": "code",
   "execution_count": 60,
   "metadata": {
    "ExecuteTime": {
     "end_time": "2020-12-24T07:29:45.139899Z",
     "start_time": "2020-12-24T07:20:51.214925Z"
    },
    "scrolled": true
   },
   "outputs": [
    {
     "name": "stdout",
     "output_type": "stream",
     "text": [
      "*************************************************\n",
      "Perplixity: 10\n"
     ]
    },
    {
     "data": {
      "image/png": "[encoded data removed]",
      "text/plain": [
       "<Figure size 576x576 with 1 Axes>"
      ]
     },
     "metadata": {
      "needs_background": "light"
     },
     "output_type": "display_data"
    },
    {
     "name": "stdout",
     "output_type": "stream",
     "text": [
      "*************************************************\n",
      "Perplixity: 20\n"
     ]
    },
    {
     "data": {
      "image/png": "[encoded data removed]",
      "text/plain": [
       "<Figure size 576x576 with 1 Axes>"
      ]
     },
     "metadata": {
      "needs_background": "light"
     },
     "output_type": "display_data"
    },
    {
     "name": "stdout",
     "output_type": "stream",
     "text": [
      "*************************************************\n",
      "Perplixity: 30\n"
     ]
    },
    {
     "data": {
      "image/png": "[encoded data removed]",
      "text/plain": [
       "<Figure size 576x576 with 1 Axes>"
      ]
     },
     "metadata": {
      "needs_background": "light"
     },
     "output_type": "display_data"
    },
    {
     "name": "stdout",
     "output_type": "stream",
     "text": [
      "*************************************************\n",
      "Perplixity: 40\n"
     ]
    },
    {
     "data": {
      "image/png": "[encoded data removed]",
      "text/plain": [
       "<Figure size 576x576 with 1 Axes>"
      ]
     },
     "metadata": {
      "needs_background": "light"
     },
     "output_type": "display_data"
    },
    {
     "name": "stdout",
     "output_type": "stream",
     "text": [
      "*************************************************\n",
      "Perplixity: 50\n"
     ]
    },
    {
     "data": {
      "image/png": "[encoded data removed]",
      "text/plain": [
       "<Figure size 576x576 with 1 Axes>"
      ]
     },
     "metadata": {
      "needs_background": "light"
     },
     "output_type": "display_data"
    },
    {
     "name": "stdout",
     "output_type": "stream",
     "text": [
      "*************************************************\n",
      "Perplixity: 60\n"
     ]
    },
    {
     "data": {
      "image/png": "[encoded data removed]",
      "text/plain": [
       "<Figure size 576x576 with 1 Axes>"
      ]
     },
     "metadata": {
      "needs_background": "light"
     },
     "output_type": "display_data"
    },
    {
     "name": "stdout",
     "output_type": "stream",
     "text": [
      "*************************************************\n",
      "Perplixity: 70\n"
     ]
    },
    {
     "data": {
      "image/png": "[encoded data removed]",
      "text/plain": [
       "<Figure size 576x576 with 1 Axes>"
      ]
     },
     "metadata": {
      "needs_background": "light"
     },
     "output_type": "display_data"
    }
   ],
   "source": [
    "from sklearn.manifold import TSNE\n",
    "\n",
    "perpl = np.arange(10, 71, 10)\n",
    "\n",
    "for i in perpl:\n",
    "    print('*************************************************')\n",
    "    print('Perplixity:', i)\n",
    "    tSNE_res = TSNE(n_components=2,\n",
    "                    perplexity=i,\n",
    "                    early_exaggeration=15,\n",
    "                    n_iter=3000,\n",
    "                    learning_rate=800).fit_transform(sp_scaled)\n",
    "\n",
    "    # Plot different tSNE perplixity\n",
    "    fig = plt.figure(figsize=(8, 8))\n",
    "    ax = fig.add_subplot(111)\n",
    "    ax.scatter(tSNE_res[:, 0], tSNE_res[:, 1])\n",
    "    plt.show()"
   ]
  },
  {
   "cell_type": "code",
   "execution_count": 74,
   "metadata": {
    "ExecuteTime": {
     "end_time": "2020-12-24T09:02:36.868050Z",
     "start_time": "2020-12-24T09:01:21.843700Z"
    }
   },
   "outputs": [
    {
     "data": {
      "image/png": "[encoded data removed]",
      "text/plain": [
       "<Figure size 576x576 with 1 Axes>"
      ]
     },
     "metadata": {
      "needs_background": "light"
     },
     "output_type": "display_data"
    }
   ],
   "source": [
    "# Best tSNE result\n",
    "tSNE_res = TSNE(n_components=2,\n",
    "                perplexity=60,\n",
    "                early_exaggeration=12,\n",
    "                n_iter=3000,\n",
    "                learning_rate=800).fit_transform(sp_scaled)\n",
    "\n",
    "fig = plt.figure(figsize=(8, 8))\n",
    "ax = fig.add_subplot(111)\n",
    "ax.scatter(tSNE_res[:, 0], tSNE_res[:, 1])\n",
    "plt.show()"
   ]
  },
  {
   "cell_type": "code",
   "execution_count": 75,
   "metadata": {
    "ExecuteTime": {
     "end_time": "2020-12-24T09:02:41.591168Z",
     "start_time": "2020-12-24T09:02:41.567040Z"
    }
   },
   "outputs": [
    {
     "name": "stdout",
     "output_type": "stream",
     "text": [
      "Stored 'tSNE_res' (ndarray)\n"
     ]
    }
   ],
   "source": [
    "%store tSNE_res"
   ]
  },
  {
   "cell_type": "markdown",
   "metadata": {},
   "source": [
    "## VIII. Isomap"
   ]
  },
  {
   "cell_type": "code",
   "execution_count": 57,
   "metadata": {
    "ExecuteTime": {
     "end_time": "2020-12-24T07:17:08.568764Z",
     "start_time": "2020-12-24T07:14:49.997540Z"
    }
   },
   "outputs": [
    {
     "name": "stdout",
     "output_type": "stream",
     "text": [
      "************************************************\n",
      "n Neighbors 5\n"
     ]
    },
    {
     "data": {
      "image/png": "[encoded data removed]",
      "text/plain": [
       "<Figure size 432x288 with 1 Axes>"
      ]
     },
     "metadata": {
      "needs_background": "light"
     },
     "output_type": "display_data"
    },
    {
     "name": "stdout",
     "output_type": "stream",
     "text": [
      "************************************************\n",
      "n Neighbors 6\n"
     ]
    },
    {
     "data": {
      "image/png": "[encoded data removed]",
      "text/plain": [
       "<Figure size 432x288 with 1 Axes>"
      ]
     },
     "metadata": {
      "needs_background": "light"
     },
     "output_type": "display_data"
    },
    {
     "name": "stdout",
     "output_type": "stream",
     "text": [
      "************************************************\n",
      "n Neighbors 7\n"
     ]
    },
    {
     "data": {
      "image/png": "[encoded data removed]",
      "text/plain": [
       "<Figure size 432x288 with 1 Axes>"
      ]
     },
     "metadata": {
      "needs_background": "light"
     },
     "output_type": "display_data"
    },
    {
     "name": "stdout",
     "output_type": "stream",
     "text": [
      "************************************************\n",
      "n Neighbors 8\n"
     ]
    },
    {
     "data": {
      "image/png": "[encoded data removed]",
      "text/plain": [
       "<Figure size 432x288 with 1 Axes>"
      ]
     },
     "metadata": {
      "needs_background": "light"
     },
     "output_type": "display_data"
    },
    {
     "name": "stdout",
     "output_type": "stream",
     "text": [
      "************************************************\n",
      "n Neighbors 9\n"
     ]
    },
    {
     "data": {
      "image/png": "[encoded data removed]",
      "text/plain": [
       "<Figure size 432x288 with 1 Axes>"
      ]
     },
     "metadata": {
      "needs_background": "light"
     },
     "output_type": "display_data"
    },
    {
     "name": "stdout",
     "output_type": "stream",
     "text": [
      "************************************************\n",
      "n Neighbors 10\n"
     ]
    },
    {
     "data": {
      "image/png": "[encoded data removed]",
      "text/plain": [
       "<Figure size 432x288 with 1 Axes>"
      ]
     },
     "metadata": {
      "needs_background": "light"
     },
     "output_type": "display_data"
    },
    {
     "name": "stdout",
     "output_type": "stream",
     "text": [
      "************************************************\n",
      "n Neighbors 11\n"
     ]
    },
    {
     "data": {
      "image/png": "[encoded data removed]",
      "text/plain": [
       "<Figure size 432x288 with 1 Axes>"
      ]
     },
     "metadata": {
      "needs_background": "light"
     },
     "output_type": "display_data"
    },
    {
     "name": "stdout",
     "output_type": "stream",
     "text": [
      "************************************************\n",
      "n Neighbors 12\n"
     ]
    },
    {
     "data": {
      "image/png": "[encoded data removed]",
      "text/plain": [
       "<Figure size 432x288 with 1 Axes>"
      ]
     },
     "metadata": {
      "needs_background": "light"
     },
     "output_type": "display_data"
    },
    {
     "name": "stdout",
     "output_type": "stream",
     "text": [
      "************************************************\n",
      "n Neighbors 13\n"
     ]
    },
    {
     "data": {
      "image/png": "[encoded data removed]",
      "text/plain": [
       "<Figure size 432x288 with 1 Axes>"
      ]
     },
     "metadata": {
      "needs_background": "light"
     },
     "output_type": "display_data"
    },
    {
     "name": "stdout",
     "output_type": "stream",
     "text": [
      "************************************************\n",
      "n Neighbors 14\n"
     ]
    },
    {
     "data": {
      "image/png": "[encoded data removed]",
      "text/plain": [
       "<Figure size 432x288 with 1 Axes>"
      ]
     },
     "metadata": {
      "needs_background": "light"
     },
     "output_type": "display_data"
    },
    {
     "name": "stdout",
     "output_type": "stream",
     "text": [
      "************************************************\n",
      "n Neighbors 15\n"
     ]
    },
    {
     "data": {
      "image/png": "[encoded data removed]",
      "text/plain": [
       "<Figure size 432x288 with 1 Axes>"
      ]
     },
     "metadata": {
      "needs_background": "light"
     },
     "output_type": "display_data"
    }
   ],
   "source": [
    "from sklearn.manifold import Isomap\n",
    "\n",
    "neighb = np.arange(5, 16, 1)\n",
    "\n",
    "for i in neighb:\n",
    "    print('************************************************')\n",
    "    print('n Neighbors', i)\n",
    "    Iso = Isomap(n_components=2, n_neighbors=i).fit_transform(sp_scaled)\n",
    "\n",
    "    # Plot different Isomap results\n",
    "    plt.scatter(Iso[:, 0], Iso[:, 1])\n",
    "    plt.show()"
   ]
  },
  {
   "cell_type": "code",
   "execution_count": 53,
   "metadata": {
    "ExecuteTime": {
     "end_time": "2020-12-24T07:00:57.680467Z",
     "start_time": "2020-12-24T07:00:44.645774Z"
    }
   },
   "outputs": [
    {
     "data": {
      "image/png": "[encoded data removed]",
      "text/plain": [
       "<Figure size 432x288 with 1 Axes>"
      ]
     },
     "metadata": {
      "needs_background": "light"
     },
     "output_type": "display_data"
    }
   ],
   "source": [
    "# Best result\n",
    "Iso = Isomap(n_components=2, n_neighbors=12).fit_transform(sp_scaled)\n",
    "\n",
    "plt.scatter(Iso[:, 0], Iso[:, 1])\n",
    "plt.show()"
   ]
  }
 ],
 "metadata": {
  "kernelspec": {
   "display_name": "Python 3",
   "language": "python",
   "name": "python3"
  },
  "language_info": {
   "codemirror_mode": {
    "name": "ipython",
    "version": 3
   },
   "file_extension": ".py",
   "mimetype": "text/x-python",
   "name": "python",
   "nbconvert_exporter": "python",
   "pygments_lexer": "ipython3",
   "version": "3.8.5"
  }
 },
 "nbformat": 4,
 "nbformat_minor": 4
}
